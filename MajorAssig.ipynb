{
  "cells": [
    {
      "cell_type": "code",
      "execution_count": 1,
      "metadata": {
        "colab": {
          "base_uri": "https://localhost:8080/"
        },
        "id": "TeeHsAcw_iTF",
        "outputId": "72321e9f-9789-48e1-ef67-0d4d7d006c8b"
      },
      "outputs": [
        {
          "output_type": "stream",
          "name": "stdout",
          "text": [
            "1\n",
            "<class 'int'>\n",
            "<class 'str'>\n"
          ]
        }
      ],
      "source": [
        "#1,What is the difference between static and dynamic variables in Python\n",
        "\n",
        "class MyClass:\n",
        "    static_var = 0  # This is a class attribute\n",
        "\n",
        "    def __init__(self, value):\n",
        "        self.instance_var = value\n",
        "\n",
        "    def increment_static(self):\n",
        "        MyClass.static_var += 1\n",
        "\n",
        "obj1 = MyClass(10)\n",
        "obj2 = MyClass(20)\n",
        "\n",
        "obj1.increment_static()\n",
        "print(MyClass.static_var)\n",
        "\n",
        "my_var = 10      # Integer type\n",
        "print(type(my_var))\n",
        "\n",
        "my_var = \"Hello\"\n",
        "print(type(my_var))\n"
      ]
    },
    {
      "cell_type": "code",
      "execution_count": 2,
      "metadata": {
        "colab": {
          "base_uri": "https://localhost:8080/"
        },
        "id": "uP7l7oL5ACK6",
        "outputId": "c790cb66-d102-4780-af88-95dbe7ba5914"
      },
      "outputs": [
        {
          "output_type": "stream",
          "name": "stdout",
          "text": [
            "2\n",
            "{'a': 1, 'c': 3}\n",
            "Not Found\n",
            "c 3\n",
            "{'a': 1, 'b': 2}\n",
            "{}\n"
          ]
        }
      ],
      "source": [
        "#2,Explain the purpose of \"pop\",\"popitem\",\"clear()\" in a dictionary with suitable examples\n",
        "\n",
        "my_dict = {'a': 1, 'b': 2, 'c': 3}\n",
        "\n",
        "# Remove the key 'b' and return its value\n",
        "value = my_dict.pop('b')\n",
        "print(value)        # Outputs: 2\n",
        "print(my_dict)      # Outputs: {'a': 1, 'c': 3}\n",
        "\n",
        "# Attempt to remove a non-existent key with a default value\n",
        "value = my_dict.pop('d', 'Not Found')\n",
        "print(value)        # Outputs: Not Found\n",
        "\n",
        "my_dict = {'a': 1, 'b': 2, 'c': 3}\n",
        "\n",
        "# Remove and return the last inserted key-value pair\n",
        "key, value = my_dict.popitem()\n",
        "print(key, value)  # Outputs: ('c', 3)\n",
        "print(my_dict)     # Outputs: {'a': 1, 'b': 2}\n",
        "\n",
        "my_dict = {'a': 1, 'b': 2, 'c': 3}\n",
        "\n",
        "# Remove all items from the dictionary\n",
        "my_dict.clear()\n",
        "print(my_dict)     # Outputs: {}\n"
      ]
    },
    {
      "cell_type": "code",
      "execution_count": 3,
      "metadata": {
        "colab": {
          "base_uri": "https://localhost:8080/"
        },
        "id": "nTLpuHG1TALw",
        "outputId": "a886f9bd-c6d1-499b-e84d-a8a73a711aff"
      },
      "outputs": [
        {
          "output_type": "stream",
          "name": "stdout",
          "text": [
            "frozenset({1, 2, 3, 4, 5})\n",
            "Error: 'frozenset' object has no attribute 'add'\n",
            "frozenset({1, 2, 3, 4, 5})\n",
            "frozenset({3})\n"
          ]
        }
      ],
      "source": [
        "#3.What do you mean by FrozenSet? Explain it with suitable examples\n",
        "\n",
        "fs = frozenset([1, 2, 3, 2, 4, 5])  # create a frozenset from a list\n",
        "print(fs)  # Output: frozenset({1, 2, 3, 4, 5})\n",
        "fs = frozenset([1, 2, 3])\n",
        "try:\n",
        "    fs.add(4)  # try to add an element to the frozenset\n",
        "except AttributeError:\n",
        "    print(\"Error: 'frozenset' object has no attribute 'add'\")\n",
        "fs1 = frozenset([1, 2, 3])\n",
        "fs2 = frozenset([3, 4, 5])\n",
        "print(fs1.union(fs2))  # Output: frozenset({1, 2, 3, 4, 5})\n",
        "print(fs1.intersection(fs2))  # Output: frozenset({3})\n"
      ]
    },
    {
      "cell_type": "code",
      "execution_count": 4,
      "metadata": {
        "id": "lAE0L4-cUatu"
      },
      "outputs": [],
      "source": [
        "#4. Differentiate between mutable and immutable data types in Python and give examples of mutable and immutable data types?\n",
        "my_list = [1, 2, 3]\n",
        "my_list.append(4)  # [1, 2, 3, 4]\n",
        "my_list[0] = 10  # [10, 2, 3, 4]\n",
        "\n",
        "my_tuple = (1, 2, 3)\n",
        "# my_tuple[0] = 10  # raises a TypeError\n"
      ]
    },
    {
      "cell_type": "code",
      "execution_count": 5,
      "metadata": {
        "colab": {
          "base_uri": "https://localhost:8080/"
        },
        "id": "5hjfJzX8W3zK",
        "outputId": "94bd7aaf-aa10-48fa-a42a-6895f3e83248"
      },
      "outputs": [
        {
          "output_type": "stream",
          "name": "stdout",
          "text": [
            "Hello, my name is John and I am 30 years old.\n"
          ]
        }
      ],
      "source": [
        "#5. What is __init__?Explain with an example?\n",
        "class Person:\n",
        "    def __init__(self, name, age):\n",
        "        self.name = name\n",
        "        self.age = age\n",
        "\n",
        "    def greet(self):\n",
        "        print(f\"Hello, my name is {self.name} and I am {self.age} years old.\")\n",
        "\n",
        "# Create an object of the Person class\n",
        "person = Person(\"John\", 30)\n",
        "\n",
        "# Call the greet method\n",
        "person.greet()  # Output: Hello, my name is John and I am 30 years old."
      ]
    },
    {
      "cell_type": "code",
      "execution_count": 6,
      "metadata": {
        "id": "eMfZ2otcXqXE"
      },
      "outputs": [],
      "source": [
        "#6.What is docstring in Python?Explain with an example\n",
        "def greet(name: str) -> None:\n",
        "    \"\"\"\n",
        "    Prints a personalized greeting message.\n",
        "\n",
        "    Args:\n",
        "        name (str): The name of the person to greet.\n",
        "\n",
        "    Returns:\n",
        "        None\n",
        "\n",
        "    Example:\n",
        "        >>> greet(\"John\")\n",
        "        Hello, John!\n",
        "    \"\"\"\n",
        "    print(f\"Hello, {name}!\")"
      ]
    },
    {
      "cell_type": "code",
      "execution_count": 7,
      "metadata": {
        "id": "e61Q56zaYOuf"
      },
      "outputs": [],
      "source": [
        "#7. What are unit tests in Python?\n",
        "\n",
        "# import unittest\n",
        "\n",
        "# # Function to be tested\n",
        "# def add(a, b):\n",
        "#     return a + b\n",
        "\n",
        "# # Test case class\n",
        "# class TestMathOperations(unittest.TestCase):\n",
        "#     def test_add(self):\n",
        "#         self.assertEqual(add(2, 3), 5)  # This test should pass\n",
        "#         self.assertEqual(add(-1, 1), 0)  # This test should pass\n",
        "#         self.assertNotEqual(add(2, 2), 5)  # This test should pass\n",
        "\n",
        "# # Main block to run the tests\n",
        "# if __name__ == '__main__':\n",
        "#     unittest.main()\n",
        "#python -m unittest test_module.py\n"
      ]
    },
    {
      "cell_type": "code",
      "execution_count": 8,
      "metadata": {
        "colab": {
          "base_uri": "https://localhost:8080/"
        },
        "id": "bvpBgIKDYtlI",
        "outputId": "b3a80331-4ac8-4981-a893-a0d266c95584"
      },
      "outputs": [
        {
          "output_type": "stream",
          "name": "stdout",
          "text": [
            "0\n",
            "1\n",
            "2\n",
            "3\n",
            "4\n",
            "1\n",
            "3\n",
            "5\n",
            "7\n",
            "9\n",
            "1\n",
            "3\n"
          ]
        }
      ],
      "source": [
        "#8, What is break, continue and pass in Python\n",
        "\n",
        "for i in range(10):\n",
        "    if i == 5:\n",
        "        break  # Exit the loop when i equals 5\n",
        "    print(i)\n",
        "for i in range(10):\n",
        "    if i % 2 == 0:\n",
        "        continue  # Skip the rest of the loop body if i is even\n",
        "    print(i)\n",
        "for i in range(5):\n",
        "    if i % 2 == 0:\n",
        "        pass  # Do nothing for even numbers\n",
        "    else:\n",
        "        print(i)"
      ]
    },
    {
      "cell_type": "code",
      "execution_count": 9,
      "metadata": {
        "colab": {
          "base_uri": "https://localhost:8080/"
        },
        "id": "TB4R5druaZrn",
        "outputId": "f9574aa3-6c5b-4d57-c390-6edad06a6d0a"
      },
      "outputs": [
        {
          "output_type": "stream",
          "name": "stdout",
          "text": [
            "Woof! My name is Fido\n"
          ]
        }
      ],
      "source": [
        "#9. What is the use of self in Python?\n",
        "class Dog:\n",
        "    def __init__(self, name, age):\n",
        "        self.name = name\n",
        "        self.age = age\n",
        "\n",
        "    def bark(self):\n",
        "        print(\"Woof! My name is\", self.name)\n",
        "\n",
        "my_dog = Dog(\"Fido\", 3)\n",
        "my_dog.bark()  # Output: Woof! My name is Fido"
      ]
    },
    {
      "cell_type": "code",
      "execution_count": 10,
      "metadata": {
        "colab": {
          "base_uri": "https://localhost:8080/"
        },
        "id": "hi2nPHuFa9nr",
        "outputId": "170569c8-2218-4ea3-89d7-fa956dab7e6e"
      },
      "outputs": [
        {
          "output_type": "stream",
          "name": "stdout",
          "text": [
            "This is a global attribute\n",
            "This is a protected attribute\n",
            "Private attribute cannot be accessed directly\n"
          ]
        }
      ],
      "source": [
        "#10. What are global, protected and private attributes in Python?\n",
        "\n",
        "class MyClass:\n",
        "    my_global_attribute = \"This is a global attribute\"\n",
        "\n",
        "my_obj = MyClass()\n",
        "print(my_obj.my_global_attribute)  # Output: This is a global attribute\n",
        "\n",
        "class MyClass:\n",
        "    def __init__(self):\n",
        "        self._my_protected_attribute = \"This is a protected attribute\"\n",
        "\n",
        "class MySubclass(MyClass):\n",
        "    def access_protected(self):\n",
        "        print(self._my_protected_attribute)  # Output: This is a protected attribute\n",
        "\n",
        "my_obj = MySubclass()\n",
        "my_obj.access_protected()\n",
        "\n",
        "class MyClass:\n",
        "    def __init__(self):\n",
        "        self.__my_private_attribute = \"This is a private attribute\"\n",
        "\n",
        "    def access_private(self):\n",
        "        print(self.__my_private_attribute)  # Output: This is a private attribute\n",
        "\n",
        "my_obj = MyClass()\n",
        "try:\n",
        "    print(my_obj.__my_private_attribute)  # Raises AttributeError\n",
        "except AttributeError:\n",
        "    print(\"Private attribute cannot be accessed directly\")"
      ]
    },
    {
      "cell_type": "code",
      "execution_count": 11,
      "metadata": {
        "colab": {
          "base_uri": "https://localhost:8080/"
        },
        "id": "G8N5jxjQb250",
        "outputId": "6260c132-bdc5-4ecb-b9b8-ada50a6b0eca"
      },
      "outputs": [
        {
          "output_type": "stream",
          "name": "stdout",
          "text": [
            "0.0015926529164868282\n",
            "[1 2 3]\n"
          ]
        }
      ],
      "source": [
        "#11. What are modules and packages in Python?\n",
        "\n",
        "import math\n",
        "print(math.sin(3.14))  # Use the math module\n",
        "\n",
        "import numpy as np\n",
        "print(np.array([1, 2, 3]))  # Use the numpy package"
      ]
    },
    {
      "cell_type": "code",
      "source": [
        "#12. What are lists and tuples? What is the key difference between the two?\n",
        "my_list = [1, 2, 3, 4, 5]\n",
        "print(my_list[0])  # Output: 1\n",
        "my_list.append(6)  # Add an element to the list\n",
        "print(my_list)  # Output: [1, 2, 3, 4, 5, 6]\n",
        "\n",
        "my_tuple = (1, 2, 3, 4, 5)\n",
        "print(my_tuple[0])  # Output: 1\n",
        "# my_tuple.append(6)  # This would raise a TypeError, as tuples are immutable"
      ],
      "metadata": {
        "colab": {
          "base_uri": "https://localhost:8080/"
        },
        "id": "SApG2nuguuC5",
        "outputId": "82203e9b-459a-4a99-e6c4-fb900ce3ab6b"
      },
      "execution_count": 12,
      "outputs": [
        {
          "output_type": "stream",
          "name": "stdout",
          "text": [
            "1\n",
            "[1, 2, 3, 4, 5, 6]\n",
            "1\n"
          ]
        }
      ]
    },
    {
      "cell_type": "code",
      "source": [
        "#14.What are Dict and List comprehensions?\n",
        "squares = {num: num ** 2 for num in [1, 2, 3, 4, 5]}\n",
        "print(squares)  # Output: {1: 1, 2: 4, 3: 9, 4: 16, 5: 25}"
      ],
      "metadata": {
        "colab": {
          "base_uri": "https://localhost:8080/"
        },
        "id": "0vFUEuCEvJfb",
        "outputId": "45990e9d-4979-463e-c01f-123cc147e1fc"
      },
      "execution_count": 13,
      "outputs": [
        {
          "output_type": "stream",
          "name": "stdout",
          "text": [
            "{1: 1, 2: 4, 3: 9, 4: 16, 5: 25}\n"
          ]
        }
      ]
    },
    {
      "cell_type": "code",
      "source": [
        "#14.What are Dict and List comprehensions?\n",
        "def my_decorator(func):\n",
        "    def wrapper():\n",
        "        print(\"Something is happening before the function is called.\")\n",
        "        func()\n",
        "        print(\"Something is happening after the function is called.\")\n",
        "    return wrapper\n",
        "\n",
        "@my_decorator\n",
        "def say_hello():\n",
        "    print(\"Hello!\")\n",
        "\n",
        "say_hello()"
      ],
      "metadata": {
        "colab": {
          "base_uri": "https://localhost:8080/"
        },
        "id": "Li-mt-eAwLXs",
        "outputId": "e25ea241-d8b2-4c8c-e24c-80ae68778141"
      },
      "execution_count": 14,
      "outputs": [
        {
          "output_type": "stream",
          "name": "stdout",
          "text": [
            "Something is happening before the function is called.\n",
            "Hello!\n",
            "Something is happening after the function is called.\n"
          ]
        }
      ]
    },
    {
      "cell_type": "code",
      "source": [
        "#16. How is memory managed in Python?\n",
        "# import gc\n",
        "\n",
        "# # Create a list object\n",
        "# my_list = [1, 2, 3, 4, 5]\n",
        "\n",
        "# # Print the reference count of the list object\n",
        "# print(\"Initial reference count:\", sys.getrefcount(my_list))\n",
        "\n",
        "# # Create another reference to the list object\n",
        "# my_list_copy = my_list\n",
        "\n",
        "# # Print the reference count of the list object\n",
        "# print(\"Reference count after creating a copy:\", sys.getrefcount(my_list))\n",
        "\n",
        "# # Delete the original reference to the list object\n",
        "# del my_list\n",
        "\n",
        "# # Print the reference count of the list object\n",
        "# print(\"Reference count after deleting the original reference:\", sys.getrefcount(my_list_copy))\n",
        "\n",
        "# # Force the garbage collector to run\n",
        "# gc.collect()\n",
        "\n",
        "# # Print the reference count of the list object\n",
        "# print(\"Reference count after running the garbage collector:\", sys.getrefcount(my_list_copy))\n",
        "\n",
        "# # Delete the last reference to the list object\n",
        "# del my_list_copy\n",
        "\n",
        "# # Print the reference count of the list object (should be 0)\n",
        "# print(\"Reference count after deleting the last reference:\", sys.getrefcount([]))  # Note: passing an empty list to getrefcount"
      ],
      "metadata": {
        "id": "dGm2bxKSwuXH"
      },
      "execution_count": 15,
      "outputs": []
    },
    {
      "cell_type": "code",
      "source": [
        "#17.What is lambda in Python? Why is it used?\n",
        "double = lambda x: x * 2\n",
        "print(double(5))  # Output: 10"
      ],
      "metadata": {
        "colab": {
          "base_uri": "https://localhost:8080/"
        },
        "id": "Bu4E93_WxX-S",
        "outputId": "2f5ae633-a3fe-4506-8024-59601c68fde3"
      },
      "execution_count": 16,
      "outputs": [
        {
          "output_type": "stream",
          "name": "stdout",
          "text": [
            "10\n"
          ]
        }
      ]
    },
    {
      "cell_type": "code",
      "source": [
        "#18. Explain split() and join() functions in Python?\n",
        "my_string = \"hello,world,python,programming\"\n",
        "words = my_string.split(\",\")\n",
        "print(words)  # Output: ['hello', 'world', 'python', 'programming']\n",
        "\n",
        "words = ['hello', 'world', 'python', 'programming']\n",
        "my_string = \",\".join(words)\n",
        "print(my_string)  # Output: \"hello,world,python,programming\""
      ],
      "metadata": {
        "colab": {
          "base_uri": "https://localhost:8080/"
        },
        "id": "6l1gUZZ8x6q4",
        "outputId": "63492b41-bf75-4c09-a242-ba22211e4d37"
      },
      "execution_count": 17,
      "outputs": [
        {
          "output_type": "stream",
          "name": "stdout",
          "text": [
            "['hello', 'world', 'python', 'programming']\n",
            "hello,world,python,programming\n"
          ]
        }
      ]
    },
    {
      "cell_type": "code",
      "source": [
        "#19. What are iterators , iterable & generators in Python?\n",
        "my_list = [1, 2, 3, 4, 5]\n",
        "my_iterator = iter(my_list)\n",
        "\n",
        "print(next(my_iterator))  # Output: 1\n",
        "print(next(my_iterator))  # Output: 2\n",
        "print(next(my_iterator))  # Output: 3\n",
        "\n",
        "\n",
        "def my_generator():\n",
        "    for i in range(5):\n",
        "        yield i * 2\n",
        "\n",
        "for value in my_generator():\n",
        "    print(value)  # Output: 0, 2, 4, 6, 8"
      ],
      "metadata": {
        "colab": {
          "base_uri": "https://localhost:8080/"
        },
        "id": "rMaxPWDRy15U",
        "outputId": "4db4a978-80e9-44ff-9024-ea5b991c7b40"
      },
      "execution_count": 18,
      "outputs": [
        {
          "output_type": "stream",
          "name": "stdout",
          "text": [
            "1\n",
            "2\n",
            "3\n",
            "0\n",
            "2\n",
            "4\n",
            "6\n",
            "8\n"
          ]
        }
      ]
    },
    {
      "cell_type": "code",
      "source": [
        "#20. What is the difference between xrange and range in Python?\n",
        "r = range(1, 6)  # Create a range object\n",
        "print(r)  # Output: range(1, 6)\n",
        "print(list(r))  # Output: [1, 2, 3, 4, 5]\n",
        "\n",
        "# xr = xrange(1, 6)  # Create an xrange iterator\n",
        "# print(xr)  # Output: xrange(1, 6)\n",
        "# print(list(xr))  # Output: [1, 2, 3, 4, 5]"
      ],
      "metadata": {
        "colab": {
          "base_uri": "https://localhost:8080/"
        },
        "id": "vN1xxjOczr_A",
        "outputId": "cdf09dbe-e0b0-4997-e676-0ee2c071e4c0"
      },
      "execution_count": 19,
      "outputs": [
        {
          "output_type": "stream",
          "name": "stdout",
          "text": [
            "range(1, 6)\n",
            "[1, 2, 3, 4, 5]\n"
          ]
        }
      ]
    },
    {
      "cell_type": "code",
      "source": [
        "#21. Pillars of Oops?\n",
        "class BankAccount:\n",
        "    def __init__(self, balance=0):\n",
        "        self.__balance = balance  # Private attribute\n",
        "\n",
        "    def deposit(self, amount):\n",
        "        self.__balance += amount\n",
        "\n",
        "    def get_balance(self):\n",
        "        return self.__balance\n",
        "\n",
        "\n",
        "class Vehicle:\n",
        "    def __init__(self, make, model):\n",
        "        self.make = make\n",
        "        self.model = model\n",
        "\n",
        "    def start_engine(self):\n",
        "        print(\"Vroom!\")\n",
        "\n",
        "class Car(Vehicle):\n",
        "    def __init__(self, make, model, num_doors):\n",
        "        super().__init__(make, model)\n",
        "        self.num_doors = num_doors\n",
        "\n",
        "my_car = Car(\"Toyota\", \"Corolla\", 4)\n",
        "my_car.start_engine()  # Output: Vroom!\n",
        "\n",
        "class Animal:\n",
        "    def __init__(self, name):\n",
        "        self.name = name\n",
        "\n",
        "    def sound(self):\n",
        "        print(\"The animal makes a sound.\")\n",
        "\n",
        "class Dog(Animal):\n",
        "    def __init__(self, name, breed):\n",
        "        super().__init__(name)\n",
        "        self.breed = breed\n",
        "\n",
        "    def sound(self):\n",
        "        print(\"The dog barks.\")\n",
        "\n",
        "my_dog = Dog(\"Fido\", \"Golden Retriever\")\n",
        "my_dog.sound()  # Output: The dog barks.\n",
        "\n",
        "\n",
        "class Shape:\n",
        "    def area(self):\n",
        "        pass\n",
        "\n",
        "class Circle(Shape):\n",
        "    def __init__(self, radius):\n",
        "        self.radius = radius\n",
        "\n",
        "    def area(self):\n",
        "        return 3.14 * self.radius ** 2\n",
        "\n",
        "class Rectangle(Shape):\n",
        "    def __init__(self, width, height):\n",
        "        self.width = width\n",
        "        self.height = height\n",
        "\n",
        "    def area(self):\n",
        "        return self.width * self.height\n",
        "\n",
        "shapes = [Circle(5), Rectangle(4, 5)]\n",
        "for shape in shapes:\n",
        "    print(shape.area())"
      ],
      "metadata": {
        "colab": {
          "base_uri": "https://localhost:8080/"
        },
        "id": "jrHsPWty0bp6",
        "outputId": "1ca53898-0090-4808-8708-11e7d20a6bfd"
      },
      "execution_count": 20,
      "outputs": [
        {
          "output_type": "stream",
          "name": "stdout",
          "text": [
            "Vroom!\n",
            "The dog barks.\n",
            "78.5\n",
            "20\n"
          ]
        }
      ]
    },
    {
      "cell_type": "code",
      "source": [
        "#22. How will you check if a class is a child of another class?\n",
        "\n",
        "class Animal:\n",
        "    pass\n",
        "\n",
        "class Dog(Animal):\n",
        "    pass\n",
        "\n",
        "print(issubclass(Dog, Animal))  # Output: True\n",
        "\n",
        "class Animal:\n",
        "    pass\n",
        "\n",
        "class Dog(Animal):\n",
        "    pass\n",
        "\n",
        "my_dog = Dog()\n",
        "print(isinstance(my_dog, Animal))  # Output: True\n",
        "\n",
        "class Animal:\n",
        "    pass\n",
        "\n",
        "class Dog(Animal):\n",
        "    pass\n",
        "\n",
        "print(Animal in Dog.__bases__)  # Output: True"
      ],
      "metadata": {
        "colab": {
          "base_uri": "https://localhost:8080/"
        },
        "id": "JWlUyxxl1RHN",
        "outputId": "68b65a61-eb17-4a38-c79b-d92634ea052d"
      },
      "execution_count": 21,
      "outputs": [
        {
          "output_type": "stream",
          "name": "stdout",
          "text": [
            "True\n",
            "True\n",
            "True\n"
          ]
        }
      ]
    },
    {
      "cell_type": "code",
      "source": [
        "#23.How does inheritance work in python? Explain all types of inheritance with an example?\n",
        "\n",
        "class Animal:\n",
        "    def sound(self):\n",
        "        print(\"The animal makes a sound.\")\n",
        "\n",
        "class Dog(Animal):\n",
        "    def sound(self):\n",
        "        print(\"The dog barks.\")\n",
        "\n",
        "my_dog = Dog()\n",
        "my_dog.sound()  # Output: The dog barks.\n",
        "\n",
        "class Flyable:\n",
        "    def fly(self):\n",
        "        print(\"I can fly!\")\n",
        "\n",
        "class Mammal:\n",
        "    def feed(self):\n",
        "        print(\"I can feed my young.\")\n",
        "\n",
        "class Bat(Flyable, Mammal):\n",
        "    pass\n",
        "\n",
        "my_bat = Bat()\n",
        "my_bat.fly()  # Output: I can fly!\n",
        "my_bat.feed()  # Output: I can feed my young.\n",
        "\n",
        "class Animal:\n",
        "    def sound(self):\n",
        "        print(\"The animal makes a sound.\")\n",
        "\n",
        "class Mammal(Animal):\n",
        "    def feed(self):\n",
        "        print(\"I can feed my young.\")\n",
        "\n",
        "class Dog(Mammal):\n",
        "    def sound(self):\n",
        "        print(\"The dog barks.\")\n",
        "\n",
        "my_dog = Dog()\n",
        "my_dog.sound()  # Output: The dog barks.\n",
        "my_dog.feed()  # Output: I can feed my young.\n",
        "\n",
        "class Animal:\n",
        "    def sound(self):\n",
        "        print(\"The animal makes a sound.\")\n",
        "\n",
        "class Dog(Animal):\n",
        "    def sound(self):\n",
        "        print(\"The dog barks.\")\n",
        "\n",
        "class Cat(Animal):\n",
        "    def sound(self):\n",
        "        print(\"The cat meows.\")\n",
        "\n",
        "my_dog = Dog()\n",
        "my_dog.sound()  # Output: The dog barks.\n",
        "\n",
        "my_cat = Cat()\n",
        "my_cat.sound()  # Output: The cat meows.\n",
        "\n",
        "class Flyable:\n",
        "    def fly(self):\n",
        "        print(\"I can fly!\")\n",
        "\n",
        "class Mammal:\n",
        "    def feed(self):\n",
        "        print(\"I can feed my young.\")\n",
        "\n",
        "class Bird(Flyable, Mammal):\n",
        "    pass\n",
        "\n",
        "class Parrot(Bird):\n",
        "    def talk(self):\n",
        "        print(\"Polly wants a cracker!\")\n",
        "\n",
        "my_parrot = Parrot()\n",
        "my_parrot.fly()  # Output: I can fly!\n",
        "my_parrot.feed()  # Output: I can feed my young.\n",
        "my_parrot.talk()  # Output: Polly wants a cracker!"
      ],
      "metadata": {
        "colab": {
          "base_uri": "https://localhost:8080/"
        },
        "id": "Rn54QmGc2E9-",
        "outputId": "b70fa533-65aa-4008-a354-6335b03c178c"
      },
      "execution_count": 22,
      "outputs": [
        {
          "output_type": "stream",
          "name": "stdout",
          "text": [
            "The dog barks.\n",
            "I can fly!\n",
            "I can feed my young.\n",
            "The dog barks.\n",
            "I can feed my young.\n",
            "The dog barks.\n",
            "The cat meows.\n",
            "I can fly!\n",
            "I can feed my young.\n",
            "Polly wants a cracker!\n"
          ]
        }
      ]
    },
    {
      "cell_type": "code",
      "source": [
        "#23. What is encapsulation? Explain it with an example?\n",
        "class BankAccount:\n",
        "    def __init__(self, account_number, initial_balance):\n",
        "        self.__account_number = account_number  # Private attribute\n",
        "        self.__balance = initial_balance  # Private attribute\n",
        "\n",
        "    def deposit(self, amount):\n",
        "        self.__balance += amount\n",
        "        print(f\"Deposited ${amount} into account {self.__account_number}. New balance: ${self.__balance}\")\n",
        "\n",
        "    def withdraw(self, amount):\n",
        "        if amount > self.__balance:\n",
        "            print(\"Insufficient balance!\")\n",
        "        else:\n",
        "            self.__balance -= amount\n",
        "            print(f\"Withdrew ${amount} from account {self.__account_number}. New balance: ${self.__balance}\")\n",
        "\n",
        "    def get_balance(self):\n",
        "        return self.__balance\n",
        "\n",
        "account = BankAccount(\"1234567890\", 1000)\n",
        "print(account.get_balance())  # Output: 1000\n",
        "\n",
        "account.deposit(500)\n",
        "account.withdraw(200)\n",
        "\n",
        "# Trying to access private attributes directly will raise an AttributeError\n",
        "try:\n",
        "    print(account.__account_number)\n",
        "except AttributeError:\n",
        "    print(\"Error: Cannot access private attribute!\")\n",
        "\n",
        "try:\n",
        "    print(account.__balance)\n",
        "except AttributeError:\n",
        "    print(\"Error: Cannot access private attribute!\")"
      ],
      "metadata": {
        "colab": {
          "base_uri": "https://localhost:8080/"
        },
        "id": "f9NOXri025Uc",
        "outputId": "09a8866e-1743-4ac8-8c29-b946324a07f1"
      },
      "execution_count": 23,
      "outputs": [
        {
          "output_type": "stream",
          "name": "stdout",
          "text": [
            "1000\n",
            "Deposited $500 into account 1234567890. New balance: $1500\n",
            "Withdrew $200 from account 1234567890. New balance: $1300\n",
            "Error: Cannot access private attribute!\n",
            "Error: Cannot access private attribute!\n"
          ]
        }
      ]
    },
    {
      "cell_type": "code",
      "source": [
        "#25. What is polymorphism? Explain it with an example.\n",
        "class Shape:\n",
        "    def area(self):\n",
        "        pass\n",
        "\n",
        "class Circle(Shape):\n",
        "    def __init__(self, radius):\n",
        "        self.radius = radius\n",
        "\n",
        "    def area(self):\n",
        "        return 3.14 * (self.radius ** 2)\n",
        "\n",
        "class Rectangle(Shape):\n",
        "    def __init__(self, length, width):\n",
        "        self.length = length\n",
        "        self.width = width\n",
        "\n",
        "    def area(self):\n",
        "        return self.length * self.width\n",
        "\n",
        "class Triangle(Shape):\n",
        "    def __init__(self, base, height):\n",
        "        self.base = base\n",
        "        self.height = height\n",
        "\n",
        "    def area(self):\n",
        "        return 0.5 * self.base * self.height\n",
        "\n",
        "def calculate_area(shape):\n",
        "    return shape.area()\n",
        "\n",
        "circle = Circle(5)\n",
        "rectangle = Rectangle(4, 5)\n",
        "triangle = Triangle(3, 4)\n",
        "\n",
        "print(calculate_area(circle))  # Output: 78.5\n",
        "print(calculate_area(rectangle))  # Output: 20\n",
        "print(calculate_area(triangle))  # Output: 6.0"
      ],
      "metadata": {
        "colab": {
          "base_uri": "https://localhost:8080/"
        },
        "id": "5IsCu1lM3SFY",
        "outputId": "ffedc0ac-12a0-44b6-acc7-c55b3982eab2"
      },
      "execution_count": 24,
      "outputs": [
        {
          "output_type": "stream",
          "name": "stdout",
          "text": [
            "78.5\n",
            "20\n",
            "6.0\n"
          ]
        }
      ]
    },
    {
      "cell_type": "code",
      "source": [
        " \"\"\"Q-1.3\n",
        " Part a\n",
        "Add an element \"freedom_fighter\" to the list at the 0th index.\"\"\"\n",
        "name = [\"Mohan\", \"dash\", \"karam\", \"chandra\", \"gandhi\", \"Bapu\"]\n",
        "name.insert(0, \"freedom_fighter\")\n",
        "print(name)\n"
      ],
      "metadata": {
        "id": "VXchaVNb3sLc",
        "colab": {
          "base_uri": "https://localhost:8080/"
        },
        "outputId": "ab15cfbb-ac81-4bbf-a175-6df2f83bf520"
      },
      "execution_count": 25,
      "outputs": [
        {
          "output_type": "stream",
          "name": "stdout",
          "text": [
            "['freedom_fighter', 'Mohan', 'dash', 'karam', 'chandra', 'gandhi', 'Bapu']\n"
          ]
        }
      ]
    },
    {
      "cell_type": "code",
      "source": [
        "\"\"\" Part b\n",
        "Find the output of the following code and explain how:\"\"\"\n",
        "name = [\"freedomFighter\", \"Bapuji\", \"MOhan\", \"dash\", \"karam\", \"chandra\", \"gandhi\"]\n",
        "\n",
        "length1 = len(name[-len(name)+1:-1:2])\n",
        "length2 = len(name[-len(name)+1:-1])\n",
        "\n",
        "print(length1 + length2)\n",
        "\"\"\" Explanation:\n",
        "\n",
        "Determine -len(name): Since the length of the list name is 7, -len(name) equals -7.\n",
        "\n",
        "Slice name[-len(name)+1:-1:2]: This is equivalent to name[-6:-1:2] because -len(name) + 1 is -6.\n",
        "\n",
        "name[-6:] starts from the 1st index (value \"Bapuji\") and ends at the second last element (not inclusive of the last element gandhi).\n",
        "Hence, name[-6:-1:2] results in [\"Bapuji\", \"karam\", \"gandhi\"] (taking elements at indices 1, 3, and 5).\n",
        "So, length1 is 3.\n",
        "\n",
        "Slice name[-len(name)+1:-1]: This is equivalent to name[-6:-1].\n",
        "\n",
        "It includes elements from index 1 to the second last element (excluding the last element gandhi), giving [\"Bapuji\", \"MOhan\", \"dash\", \"karam\", \"chandra\"].\n",
        "So, length2 is 5.\"\"\""
      ],
      "metadata": {
        "colab": {
          "base_uri": "https://localhost:8080/",
          "height": 105
        },
        "id": "UEZWrCju41KJ",
        "outputId": "7cb14d1a-1dac-4f12-d9ac-877495c2011a"
      },
      "execution_count": 26,
      "outputs": [
        {
          "output_type": "stream",
          "name": "stdout",
          "text": [
            "8\n"
          ]
        },
        {
          "output_type": "execute_result",
          "data": {
            "text/plain": [
              "' Explanation:\\n\\nDetermine -len(name): Since the length of the list name is 7, -len(name) equals -7.\\n\\nSlice name[-len(name)+1:-1:2]: This is equivalent to name[-6:-1:2] because -len(name) + 1 is -6.\\n\\nname[-6:] starts from the 1st index (value \"Bapuji\") and ends at the second last element (not inclusive of the last element gandhi).\\nHence, name[-6:-1:2] results in [\"Bapuji\", \"karam\", \"gandhi\"] (taking elements at indices 1, 3, and 5).\\nSo, length1 is 3.\\n\\nSlice name[-len(name)+1:-1]: This is equivalent to name[-6:-1].\\n\\nIt includes elements from index 1 to the second last element (excluding the last element gandhi), giving [\"Bapuji\", \"MOhan\", \"dash\", \"karam\", \"chandra\"].\\nSo, length2 is 5.'"
            ],
            "application/vnd.google.colaboratory.intrinsic+json": {
              "type": "string"
            }
          },
          "metadata": {},
          "execution_count": 26
        }
      ]
    },
    {
      "cell_type": "code",
      "source": [
        "\"\"\" Calculate length1 + length2:\"\"\"\n",
        "# length1 = 3\n",
        "# length2 = 5\n",
        "# length1 + length2 = 3 + 5 = 8\n"
      ],
      "metadata": {
        "colab": {
          "base_uri": "https://localhost:8080/",
          "height": 36
        },
        "id": "Yd6oDxoU4YKy",
        "outputId": "7167d31e-1afb-47cc-fde5-281e9eee8dd1"
      },
      "execution_count": 27,
      "outputs": [
        {
          "output_type": "execute_result",
          "data": {
            "text/plain": [
              "' Calculate length1 + length2:'"
            ],
            "application/vnd.google.colaboratory.intrinsic+json": {
              "type": "string"
            }
          },
          "metadata": {},
          "execution_count": 27
        }
      ]
    },
    {
      "cell_type": "code",
      "source": [
        "\"\"\"Part c\n",
        "Add two more elements \"NetaJi\" and \"Bose\" at the end of the list.\"\"\"\n",
        "name = [\"freedomFighter\", \"Bapuji\", \"MOhan\", \"dash\", \"karam\", \"chandra\", \"gandhi\"]\n",
        "name.extend([\"NetaJi\", \"Bose\"])\n",
        "print(name)\n"
      ],
      "metadata": {
        "colab": {
          "base_uri": "https://localhost:8080/"
        },
        "id": "teJrAxpy5NTd",
        "outputId": "83320333-b8d5-42ef-cdc5-770e50d9d056"
      },
      "execution_count": 28,
      "outputs": [
        {
          "output_type": "stream",
          "name": "stdout",
          "text": [
            "['freedomFighter', 'Bapuji', 'MOhan', 'dash', 'karam', 'chandra', 'gandhi', 'NetaJi', 'Bose']\n"
          ]
        }
      ]
    },
    {
      "cell_type": "code",
      "source": [
        "\"\"\"Part d\n",
        "What will be the value of temp and the modified list after swapping first and last elements:\"\"\"\n",
        "name = [\"Bapuji\", \"dash\", \"karam\", \"chandra\", \"gandi\", \"Mohan\"]\n",
        "\n",
        "temp = name[-1]\n",
        "name[-1] = name[0]\n",
        "name[0] = temp\n",
        "\n",
        "print(name)\n",
        "\"\"\"Explanation:\n",
        "\n",
        "Initial List: [\"Bapuji\", \"dash\", \"karam\", \"chandra\", \"gandi\", \"Mohan\"]\n",
        "\n",
        "Assign temp to the last element: temp = name[-1] which is \"Mohan\".\n",
        "\n",
        "Replace the last element with the first element: name[-1] = name[0] so the last element becomes \"Bapuji\".\n",
        "\n",
        "Replace the first element with temp: name[0] = temp so the first element becomes \"Mohan\".\n",
        "\n",
        "Final List: [\"Mohan\", \"dash\", \"karam\", \"chandra\", \"gandi\", \"Bapuji\"]\"\"\""
      ],
      "metadata": {
        "colab": {
          "base_uri": "https://localhost:8080/",
          "height": 88
        },
        "id": "m4UabFv_5pW-",
        "outputId": "f1b77c47-83a7-4344-a0d2-1e985c56f32f"
      },
      "execution_count": 29,
      "outputs": [
        {
          "output_type": "stream",
          "name": "stdout",
          "text": [
            "['Mohan', 'dash', 'karam', 'chandra', 'gandi', 'Bapuji']\n"
          ]
        },
        {
          "output_type": "execute_result",
          "data": {
            "text/plain": [
              "'Explanation:\\n\\nInitial List: [\"Bapuji\", \"dash\", \"karam\", \"chandra\", \"gandi\", \"Mohan\"]\\n\\nAssign temp to the last element: temp = name[-1] which is \"Mohan\".\\n\\nReplace the last element with the first element: name[-1] = name[0] so the last element becomes \"Bapuji\".\\n\\nReplace the first element with temp: name[0] = temp so the first element becomes \"Mohan\".\\n\\nFinal List: [\"Mohan\", \"dash\", \"karam\", \"chandra\", \"gandi\", \"Bapuji\"]'"
            ],
            "application/vnd.google.colaboratory.intrinsic+json": {
              "type": "string"
            }
          },
          "metadata": {},
          "execution_count": 29
        }
      ]
    },
    {
      "cell_type": "markdown",
      "source": [
        "Question 1.4.Find the output of the following.\n",
        "\n",
        "animal = ['Human','cat','mat','cat','rat','Human', 'Lion']\n",
        "\n",
        "print(animal.count('Human'))\n",
        "\n",
        "print(animal.index('rat'))\n",
        "\n",
        "print(len(animal))\n"
      ],
      "metadata": {
        "id": "x6pedl3n6COK"
      }
    },
    {
      "cell_type": "code",
      "source": [
        "animal = ['Human', 'cat', 'mat', 'cat', 'rat', 'Human', 'Lion']\n",
        "\n",
        "print(animal.count('Human'))\n",
        "print(animal.index('rat'))\n",
        "print(len(animal))\n"
      ],
      "metadata": {
        "colab": {
          "base_uri": "https://localhost:8080/"
        },
        "id": "pO6ukNxT6HiK",
        "outputId": "912b703a-03a0-42c1-8509-c1242d72f493"
      },
      "execution_count": 30,
      "outputs": [
        {
          "output_type": "stream",
          "name": "stdout",
          "text": [
            "2\n",
            "4\n",
            "7\n"
          ]
        }
      ]
    },
    {
      "cell_type": "markdown",
      "source": [
        "Question 1.5. tuple1=(10,20,\"Apple\",3.4,'a',[\"master\",\"ji\"],(\"sita\",\"geeta\",22),[{\"roll_no\":1},\n",
        "{\"name\":\"Navneet\"}])\n",
        "\n",
        "\n",
        "a)print(len(tuple1))\n",
        "\n",
        "b)print(tuple1[-1][-1][\"name\"])\n",
        "\n",
        "c)fetch the value of roll_no from this tuple.\n",
        "\n",
        "d)print(tuple1[-3][1])\n",
        "\n",
        "e)fetch the element \"22\" from this tuple."
      ],
      "metadata": {
        "id": "WuzJ7tGL6XNP"
      }
    },
    {
      "cell_type": "code",
      "source": [
        "tuple1 = (10, 20, \"Apple\", 3.4, 'a', [\"master\", \"ji\"], (\"sita\", \"geeta\", 22), [{\"roll_no\": 1}, {\"name\": \"Navneet\"}])\n",
        "print(len(tuple1))\n",
        "print(tuple1[-1][-1][\"name\"])\n",
        "roll_no = tuple1[-1][0][\"roll_no\"]\n",
        "print(roll_no)\n",
        "print(tuple1[-3][1])\n"
      ],
      "metadata": {
        "colab": {
          "base_uri": "https://localhost:8080/"
        },
        "id": "Nln3IXGg6ZIO",
        "outputId": "3189da75-3397-41b1-8bac-0e92d34a0fda"
      },
      "execution_count": 31,
      "outputs": [
        {
          "output_type": "stream",
          "name": "stdout",
          "text": [
            "8\n",
            "Navneet\n",
            "1\n",
            "ji\n"
          ]
        }
      ]
    },
    {
      "cell_type": "markdown",
      "source": [
        "1.6. Write a program to display the appropriate message as per the color of signal(RED-Stop/Yellow-Stay/\n",
        "Green-Go) at the road crossing."
      ],
      "metadata": {
        "id": "huPipgDV6vi1"
      }
    },
    {
      "cell_type": "code",
      "source": [
        "# Get the color of the signal from the user\n",
        "signal_color = input(\"Enter the color of the traffic signal (RED/YELLOW/GREEN): \").strip().upper()\n",
        "\n",
        "# Determine the message based on the signal color\n",
        "if signal_color == \"RED\":\n",
        "    print(\"Stop\")\n",
        "elif signal_color == \"YELLOW\":\n",
        "    print(\"Stay\")\n",
        "elif signal_color == \"GREEN\":\n",
        "    print(\"Go\")\n",
        "else:\n",
        "    print(\"Invalid color. Please enter RED, YELLOW, or GREEN.\")\n"
      ],
      "metadata": {
        "id": "yseSAxcF6xda"
      },
      "execution_count": null,
      "outputs": []
    },
    {
      "cell_type": "markdown",
      "source": [
        "1.7. Write a program to create a simple calculator performing only four basic operations(+,-,/,*) ."
      ],
      "metadata": {
        "id": "GEVVkmof7Fli"
      }
    },
    {
      "cell_type": "code",
      "source": [
        "def add(x, y):\n",
        "    return x + y\n",
        "\n",
        "def subtract(x, y):\n",
        "    return x - y\n",
        "\n",
        "def multiply(x, y):\n",
        "    return x * y\n",
        "\n",
        "def divide(x, y):\n",
        "    if y != 0:\n",
        "        return x / y\n",
        "    else:\n",
        "        return \"Error! Division by zero.\"\n",
        "\n",
        "def main():\n",
        "    print(\"Simple Calculator\")\n",
        "    print(\"Select operation:\")\n",
        "    print(\"1. Addition\")\n",
        "    print(\"2. Subtraction\")\n",
        "    print(\"3. Multiplication\")\n",
        "    print(\"4. Division\")\n",
        "\n",
        "    # Take user input for operation\n",
        "    choice = input(\"Enter choice (1/2/3/4): \")\n",
        "\n",
        "    # Check if choice is one of the four operations\n",
        "    if choice in ['1', '2', '3', '4']:\n",
        "        # Take user input for numbers\n",
        "        try:\n",
        "            num1 = float(input(\"Enter first number: \"))\n",
        "            num2 = float(input(\"Enter second number: \"))\n",
        "\n",
        "            # Perform operation based on choice\n",
        "            if choice == '1':\n",
        "                print(f\"{num1} + {num2} = {add(num1, num2)}\")\n",
        "            elif choice == '2':\n",
        "                print(f\"{num1} - {num2} = {subtract(num1, num2)}\")\n",
        "            elif choice == '3':\n",
        "                print(f\"{num1} * {num2} = {multiply(num1, num2)}\")\n",
        "            elif choice == '4':\n",
        "                print(f\"{num1} / {num2} = {divide(num1, num2)}\")\n",
        "        except ValueError:\n",
        "            print(\"Invalid input! Please enter numeric values.\")\n",
        "    else:\n",
        "        print(\"Invalid choice! Please select a valid operation.\")\n",
        "\n",
        "if __name__ == \"__main__\":\n",
        "    main()\n"
      ],
      "metadata": {
        "id": "sC19WWRG7Qe5"
      },
      "execution_count": null,
      "outputs": []
    },
    {
      "cell_type": "markdown",
      "source": [
        "1.8. Write a program to find the larger of the three pre-specified numbers using ternary operators."
      ],
      "metadata": {
        "id": "APQ-baFE7cNi"
      }
    },
    {
      "cell_type": "code",
      "source": [
        "def find_largest(a, b, c):\n",
        "    # Using nested ternary operators to find the largest of three numbers\n",
        "    largest = a if (a > b and a > c) else (b if (b > c) else c)\n",
        "    return largest\n",
        "\n",
        "def main():\n",
        "    # Pre-specified numbers\n",
        "    num1 = 10\n",
        "    num2 = 20\n",
        "    num3 = 15\n",
        "\n",
        "    # Find the largest number using the find_largest function\n",
        "    largest_number = find_largest(num1, num2, num3)\n",
        "\n",
        "    # Print the result\n",
        "    print(f\"The largest of the three numbers ({num1}, {num2}, {num3}) is: {largest_number}\")\n",
        "\n",
        "if __name__ == \"__main__\":\n",
        "    main()\n"
      ],
      "metadata": {
        "id": "rVqhDgbf7eO_"
      },
      "execution_count": null,
      "outputs": []
    },
    {
      "cell_type": "markdown",
      "source": [
        "1.9. Write a program to find the factors of a whole number using a while loop."
      ],
      "metadata": {
        "id": "5B4YEG377umE"
      }
    },
    {
      "cell_type": "code",
      "source": [
        "def find_factors(number):\n",
        "    factors = []\n",
        "    i = 1\n",
        "\n",
        "    # Loop from 1 to the number\n",
        "    while i <= number:\n",
        "        if number % i == 0:  # Check if i is a factor of number\n",
        "            factors.append(i)  # Add i to the list of factors\n",
        "        i += 1  # Increment i to check the next number\n",
        "\n",
        "    return factors\n",
        "\n",
        "def main():\n",
        "    # Pre-specified number\n",
        "    num = 36  # You can change this to any whole number you want to find factors of\n",
        "\n",
        "    # Find factors using the find_factors function\n",
        "    factors = find_factors(num)\n",
        "\n",
        "    # Print the factors\n",
        "    print(f\"The factors of {num} are: {factors}\")\n",
        "\n",
        "if __name__ == \"__main__\":\n",
        "    main()\n"
      ],
      "metadata": {
        "id": "m1Mo_jEg7wLO"
      },
      "execution_count": null,
      "outputs": []
    },
    {
      "cell_type": "markdown",
      "source": [
        "1.10. Write a program to find the sum of all the positive numbers entered by the user. As soon as the user\n",
        "enters a negative number, stop taking in any further input from the user and display the sum ."
      ],
      "metadata": {
        "id": "dAUJ-KaK77ew"
      }
    },
    {
      "cell_type": "code",
      "source": [
        "def main():\n",
        "    total_sum = 0  # Initialize the sum to 0\n",
        "\n",
        "    print(\"Enter positive numbers to add to the sum.\")\n",
        "    print(\"Enter a negative number to stop and display the sum.\")\n",
        "\n",
        "    while True:\n",
        "        try:\n",
        "            # Take user input\n",
        "            user_input = float(input(\"Enter a number: \"))\n",
        "\n",
        "            # Check if the input is a negative number\n",
        "            if user_input < 0:\n",
        "                break  # Exit the loop if a negative number is entered\n",
        "\n",
        "            # Add positive number to the sum\n",
        "            total_sum += user_input\n",
        "\n",
        "        except ValueError:\n",
        "            print(\"Invalid input! Please enter a valid number.\")\n",
        "\n",
        "    # Display the final sum\n",
        "    print(f\"The sum of all positive numbers entered is: {total_sum}\")\n",
        "\n",
        "if __name__ == \"__main__\":\n",
        "    main()\n"
      ],
      "metadata": {
        "id": "IeTkuVDM789D"
      },
      "execution_count": null,
      "outputs": []
    },
    {
      "cell_type": "markdown",
      "source": [
        "1.11. Write a program to find prime numbers between 2 to 100 using nested for loops."
      ],
      "metadata": {
        "id": "Q2McjIA98QYV"
      }
    },
    {
      "cell_type": "code",
      "source": [
        "def is_prime(n):\n",
        "    \"\"\"Check if a number is prime.\"\"\"\n",
        "    if n <= 1:\n",
        "        return False\n",
        "    for i in range(2, int(n**0.5) + 1):\n",
        "        if n % i == 0:\n",
        "            return False\n",
        "    return True\n",
        "\n",
        "def find_primes(start, end):\n",
        "    \"\"\"Find all prime numbers between start and end (inclusive).\"\"\"\n",
        "    primes = []\n",
        "    for num in range(start, end + 1):\n",
        "        if is_prime(num):\n",
        "            primes.append(num)\n",
        "    return primes\n",
        "\n",
        "def main():\n",
        "    start = 2\n",
        "    end = 100\n",
        "\n",
        "    primes = find_primes(start, end)\n",
        "\n",
        "    print(f\"Prime numbers between {start} and {end} are:\")\n",
        "    print(primes)\n",
        "\n",
        "if __name__ == \"__main__\":\n",
        "    main()\n"
      ],
      "metadata": {
        "id": "8CPw4m3E8SDx"
      },
      "execution_count": null,
      "outputs": []
    },
    {
      "cell_type": "markdown",
      "source": [
        "1.12. Write the programs for the following\n",
        "Accept the marks of the student in five major subjects and display the same\n",
        "Calculate the sum of the marks of all subjects.Divide the total marks by number of subjects (i.e. 5), calculate\n",
        "percentage = total marks/5 and display the percentage\n",
        "Find the grade of the student as per the following criteria . Hint: Use Match & case for this.:"
      ],
      "metadata": {
        "id": "kfYA0K5B8c79"
      }
    },
    {
      "cell_type": "code",
      "source": [
        "def calculate_grade(percentage):\n",
        "    \"\"\"Determine the grade based on the percentage.\"\"\"\n",
        "    match percentage:\n",
        "        case p if p >= 90:\n",
        "            return 'A+'\n",
        "        case p if p >= 80:\n",
        "            return 'A'\n",
        "        case p if p >= 70:\n",
        "            return 'B+'\n",
        "        case p if p >= 60:\n",
        "            return 'B'\n",
        "        case p if p >= 50:\n",
        "            return 'C+'\n",
        "        case p if p >= 40:\n",
        "            return 'C'\n",
        "        case _:\n",
        "            return 'F'\n",
        "\n",
        "def main():\n",
        "    marks = []\n",
        "    num_subjects = 5\n",
        "\n",
        "    # Accept marks for 5 subjects\n",
        "    print(f\"Enter the marks for {num_subjects} subjects:\")\n",
        "    for i in range(num_subjects):\n",
        "        while True:\n",
        "            try:\n",
        "                mark = float(input(f\"Enter marks for subject {i+1}: \"))\n",
        "                if 0 <= mark <= 100:\n",
        "                    marks.append(mark)\n",
        "                    break\n",
        "                else:\n",
        "                    print(\"Marks should be between 0 and 100. Please enter again.\")\n",
        "            except ValueError:\n",
        "                print(\"Invalid input! Please enter a numeric value.\")\n",
        "\n",
        "    # Calculate total marks, percentage, and grade\n",
        "    total_marks = sum(marks)\n",
        "    percentage = total_marks / num_subjects\n",
        "    grade = calculate_grade(percentage)\n",
        "\n",
        "    # Display results\n",
        "    print(\"\\nMarks of the student in five subjects are:\")\n",
        "    for i, mark in enumerate(marks, start=1):\n",
        "        print(f\"Subject {i}: {mark}\")\n",
        "\n",
        "    print(f\"\\nTotal Marks: {total_marks}\")\n",
        "    print(f\"Percentage: {percentage:.2f}%\")\n",
        "    print(f\"Grade: {grade}\")\n",
        "\n",
        "if __name__ == \"__main__\":\n",
        "    main()\n"
      ],
      "metadata": {
        "id": "u0lvoar78gCP"
      },
      "execution_count": null,
      "outputs": []
    },
    {
      "cell_type": "markdown",
      "source": [
        "1.13. Write a program for VIBGYOR Spectrum based on their Wavelength using.\n",
        "\n",
        "Wavelength Range:"
      ],
      "metadata": {
        "id": "0nNIaKpE8swJ"
      }
    },
    {
      "cell_type": "code",
      "source": [
        "def identify_color(wavelength):\n",
        "    \"\"\"Identify the color of light based on wavelength.\"\"\"\n",
        "    match wavelength:\n",
        "        case w if 380 <= w < 450:\n",
        "            return \"Violet\"\n",
        "        case w if 450 <= w < 495:\n",
        "            return \"Indigo\"\n",
        "        case w if 495 <= w < 570:\n",
        "            return \"Blue\"\n",
        "        case w if 570 <= w < 590:\n",
        "            return \"Green\"\n",
        "        case w if 590 <= w < 620:\n",
        "            return \"Yellow\"\n",
        "        case w if 620 <= w < 750:\n",
        "            return \"Orange\"\n",
        "        case w if w >= 750:\n",
        "            return \"Red\"\n",
        "        case _:\n",
        "            return \"Out of VIBGYOR spectrum\"\n",
        "\n",
        "def main():\n",
        "    print(\"VIBGYOR Spectrum Wavelength Finder\")\n",
        "\n",
        "    while True:\n",
        "        try:\n",
        "            # Input wavelength from the user\n",
        "            wavelength = float(input(\"Enter the wavelength in nanometers (nm): \"))\n",
        "\n",
        "            if wavelength < 0:\n",
        "                print(\"Wavelength cannot be negative. Please enter a valid value.\")\n",
        "                continue\n",
        "\n",
        "            # Identify and display the color\n",
        "            color = identify_color(wavelength)\n",
        "            print(f\"The color for wavelength {wavelength} nm is: {color}\")\n",
        "\n",
        "            # Option to exit or continue\n",
        "            cont = input(\"Do you want to enter another wavelength? (yes/no): \").strip().lower()\n",
        "            if cont != 'yes':\n",
        "                break\n",
        "\n",
        "        except ValueError:\n",
        "            print(\"Invalid input! Please enter a numeric value.\")\n",
        "\n",
        "if __name__ == \"__main__\":\n",
        "    main()\n"
      ],
      "metadata": {
        "id": "nHzSS2wu8mTX"
      },
      "execution_count": null,
      "outputs": []
    },
    {
      "cell_type": "markdown",
      "source": [
        "1.14.Consider the gravitational interactions between the Earth, Moon, and Sun in our solar system.\n",
        "\n",
        "Given:\n",
        "\n",
        "mass_earth = 5.972e24 # Mass of Earth in kilograms\n",
        "\n",
        "mass_moon = 7.34767309e22 # Mass of Moon in kilograms\n",
        "\n",
        "mass_sun = 1.989e30 # Mass of Sun in kilograms\n",
        "\n",
        "\n",
        "distance_earth_sun = 1.496e11 # Average distance between Earth and Sun in meters\n",
        "\n",
        "distance_moon_earth = 3.844e8 # Average distance between Moon and Earth in meters\n",
        "\n",
        "\n",
        "Tasks\n",
        "Calculate the gravitational force between the Earth and the Sun\n",
        "Calculate the gravitational force between the Moon and the Earth\n",
        "Compare the calculated forces to determine which gravitational force is stronger\n",
        "Explain which celestial body (Earth or Moon) is more attracted to the other based on the comparison."
      ],
      "metadata": {
        "id": "ybCgX_a-8-K4"
      }
    },
    {
      "cell_type": "code",
      "source": [
        "def calculate_gravitational_force(m1, m2, distance, G=6.67430e-11):\n",
        "    \"\"\"Calculate the gravitational force between two masses.\"\"\"\n",
        "    return G * m1 * m2 / distance**2\n",
        "\n",
        "def main():\n",
        "    # Given data\n",
        "    mass_earth = 5.972e24  # kg\n",
        "    mass_moon = 7.34767309e22  # kg\n",
        "    mass_sun = 1.989e30  # kg\n",
        "    distance_earth_sun = 1.496e11  # meters\n",
        "    distance_moon_earth = 3.844e8  # meters\n",
        "\n",
        "    # Calculate gravitational forces\n",
        "    F_earth_sun = calculate_gravitational_force(mass_earth, mass_sun, distance_earth_sun)\n",
        "    F_moon_earth = calculate_gravitational_force(mass_moon, mass_earth, distance_moon_earth)\n",
        "\n",
        "    # Display results\n",
        "    print(f\"Gravitational force between Earth and Sun: {F_earth_sun:.2e} N\")\n",
        "    print(f\"Gravitational force between Moon and Earth: {F_moon_earth:.2e} N\")\n",
        "\n",
        "    # Compare forces\n",
        "    if F_earth_sun > F_moon_earth:\n",
        "        print(\"The gravitational force between Earth and the Sun is stronger.\")\n",
        "    elif F_moon_earth > F_earth_sun:\n",
        "        print(\"The gravitational force between Moon and Earth is stronger.\")\n",
        "    else:\n",
        "        print(\"The gravitational forces are equal.\")\n",
        "\n",
        "    # Explanation\n",
        "    if F_earth_sun > F_moon_earth:\n",
        "        print(\"The Earth is more strongly attracted to the Sun than the Moon is to the Earth.\")\n",
        "    elif F_moon_earth > F_earth_sun:\n",
        "        print(\"The Moon is more strongly attracted to the Earth than the Earth is to the Sun.\")\n",
        "    else:\n",
        "        print(\"The attraction between Earth and Sun is equal to that between Moon and Earth.\")\n",
        "\n",
        "if __name__ == \"__main__\":\n",
        "    main()\n"
      ],
      "metadata": {
        "id": "9k75wSTD8yAh"
      },
      "execution_count": null,
      "outputs": []
    },
    {
      "cell_type": "markdown",
      "source": [
        "2. Design and implement a Python program for managing student information using object-oriented\n",
        "principles. Create a class called `Student` with encapsulated attributes for name, age, and roll number.\n",
        "Implement getter and setter methods for these attributes. Additionally, provide methods to display student\n",
        "information and update student details."
      ],
      "metadata": {
        "id": "sSZ4AKAI9QSJ"
      }
    },
    {
      "cell_type": "code",
      "source": [
        "class Student:\n",
        "    def __init__(self, name, age, roll_number):\n",
        "        # Private attributes\n",
        "        self.__name = name\n",
        "        self.__age = age\n",
        "        self.__roll_number = roll_number\n",
        "\n",
        "    # Getter for name\n",
        "    def get_name(self):\n",
        "        return self.__name\n",
        "\n",
        "    # Setter for name\n",
        "    def set_name(self, name):\n",
        "        self.__name = name\n",
        "\n",
        "    # Getter for age\n",
        "    def get_age(self):\n",
        "        return self.__age\n",
        "\n",
        "    # Setter for age\n",
        "    def set_age(self, age):\n",
        "        if age > 0:  # Ensure age is a positive number\n",
        "            self.__age = age\n",
        "        else:\n",
        "            print(\"Age must be a positive number.\")\n",
        "\n",
        "    # Getter for roll number\n",
        "    def get_roll_number(self):\n",
        "        return self.__roll_number\n",
        "\n",
        "    # Setter for roll number\n",
        "    def set_roll_number(self, roll_number):\n",
        "        self.__roll_number = roll_number\n",
        "\n",
        "    # Method to display student information\n",
        "    def display_student_info(self):\n",
        "        print(f\"Name: {self.__name}\")\n",
        "        print(f\"Age: {self.__age}\")\n",
        "        print(f\"Roll Number: {self.__roll_number}\")\n",
        "\n",
        "    # Method to update student details\n",
        "    def update_student_details(self, name=None, age=None, roll_number=None):\n",
        "        if name is not None:\n",
        "            self.set_name(name)\n",
        "        if age is not None:\n",
        "            self.set_age(age)\n",
        "        if roll_number is not None:\n",
        "            self.set_roll_number(roll_number)\n",
        "\n",
        "# Main function to demonstrate the usage of the Student class\n",
        "def main():\n",
        "    # Creating a Student object\n",
        "    student = Student(\"John Doe\", 20, \"S12345\")\n",
        "\n",
        "    # Displaying initial student information\n",
        "    print(\"Initial Student Information:\")\n",
        "    student.display_student_info()\n",
        "\n",
        "    # Updating student details\n",
        "    print(\"\\nUpdating Student Details:\")\n",
        "    student.update_student_details(name=\"Jane Smith\", age=21, roll_number=\"S54321\")\n",
        "\n",
        "    # Displaying updated student information\n",
        "    print(\"\\nUpdated Student Information:\")\n",
        "    student.display_student_info()\n",
        "\n",
        "if __name__ == \"__main__\":\n",
        "    main()\n"
      ],
      "metadata": {
        "id": "lYRvI26b9MiB"
      },
      "execution_count": null,
      "outputs": []
    },
    {
      "cell_type": "markdown",
      "source": [
        "3.Develop a Python program for managing library resources efficiently. Design a class named `LibraryBook`\n",
        "with attributes like book name, author, and availability status. Implement methods for borrowing and\n",
        "returning books while ensuring proper encapsulation of attributes.\n",
        "\n",
        "\n",
        "Tasks\n",
        "1. Create the `LibraryBook` class with encapsulated attributes\n",
        "2. Implement methods for borrowing and returning books\n",
        "3. Ensure proper encapsulation to protect book details\n",
        "4. Test the borrowing and returning functionality with sample data."
      ],
      "metadata": {
        "id": "o9Mj5d6m95iv"
      }
    },
    {
      "cell_type": "code",
      "source": [
        "class LibraryBook:\n",
        "    def __init__(self, book_name, author, availability_status=True):\n",
        "        # Private attributes for encapsulation\n",
        "        self.__book_name = book_name\n",
        "        self.__author = author\n",
        "        self.__availability_status = availability_status\n",
        "\n",
        "    # Getter for book name\n",
        "    def get_book_name(self):\n",
        "        return self.__book_name\n",
        "\n",
        "    # Setter for book name\n",
        "    def set_book_name(self, book_name):\n",
        "        self.__book_name = book_name\n",
        "\n",
        "    # Getter for author\n",
        "    def get_author(self):\n",
        "        return self.__author\n",
        "\n",
        "    # Setter for author\n",
        "    def set_author(self, author):\n",
        "        self.__author = author\n",
        "\n",
        "    # Getter for availability status\n",
        "    def get_availability_status(self):\n",
        "        return self.__availability_status\n",
        "\n",
        "    # Method to borrow the book\n",
        "    def borrow_book(self):\n",
        "        if self.__availability_status:\n",
        "            self.__availability_status = False\n",
        "            print(f\"You have successfully borrowed '{self.__book_name}'.\")\n",
        "        else:\n",
        "            print(f\"Sorry, '{self.__book_name}' is currently unavailable.\")\n",
        "\n",
        "    # Method to return the book\n",
        "    def return_book(self):\n",
        "        if not self.__availability_status:\n",
        "            self.__availability_status = True\n",
        "            print(f\"Thank you for returning '{self.__book_name}'.\")\n",
        "        else:\n",
        "            print(f\"'{self.__book_name}' was not borrowed or is already in the library.\")\n",
        "\n",
        "    # Method to display book information\n",
        "    def display_book_info(self):\n",
        "        status = \"Available\" if self.__availability_status else \"Not Available\"\n",
        "        print(f\"Book Name: {self.__book_name}\")\n",
        "        print(f\"Author: {self.__author}\")\n",
        "        print(f\"Availability Status: {status}\")\n",
        "\n",
        "# Main function to demonstrate the usage of the LibraryBook class\n",
        "def main():\n",
        "    # Creating sample LibraryBook objects\n",
        "    book1 = LibraryBook(\"1984\", \"George Orwell\")\n",
        "    book2 = LibraryBook(\"To Kill a Mockingbird\", \"Harper Lee\")\n",
        "\n",
        "    # Displaying initial book information\n",
        "    print(\"Initial Book Information:\")\n",
        "    book1.display_book_info()\n",
        "    book2.display_book_info()\n",
        "\n",
        "    # Attempt to borrow the books\n",
        "    print(\"\\nAttempting to Borrow Books:\")\n",
        "    book1.borrow_book()\n",
        "    book2.borrow_book()\n",
        "\n",
        "    # Displaying book information after borrowing\n",
        "    print(\"\\nBook Information After Borrowing:\")\n",
        "    book1.display_book_info()\n",
        "    book2.display_book_info()\n",
        "\n",
        "    # Attempt to return the books\n",
        "    print(\"\\nAttempting to Return Books:\")\n",
        "    book1.return_book()\n",
        "    book2.return_book()\n",
        "\n",
        "    # Displaying book information after returning\n",
        "    print(\"\\nBook Information After Returning:\")\n",
        "    book1.display_book_info()\n",
        "    book2.display_book_info()\n",
        "\n",
        "    # Attempting to return the books again\n",
        "    print(\"\\nAttempting to Return Books Again:\")\n",
        "    book1.return_book()\n",
        "    book2.return_book()\n",
        "\n",
        "if __name__ == \"__main__\":\n",
        "    main()\n"
      ],
      "metadata": {
        "id": "QURuRupe90pl"
      },
      "execution_count": null,
      "outputs": []
    },
    {
      "cell_type": "markdown",
      "source": [
        "4.Create a simple banking system using object-oriented concepts in Python. Design classes representing\n",
        "different types of bank accounts such as savings and checking. Implement methods for deposit, withdraw,\n",
        "and balance inquiry. Utilize inheritance to manage different account types efficiently.\n",
        "\n",
        "\n",
        "Tasks\n",
        "1. Define base class(es) for bank accounts with common attributes and methods\n",
        "2. Implement subclasses for specific account types (e.g., SavingsAccount, CheckingAccount)\n",
        "3. Provide methods for deposit, withdraw, and balance inquiry in each subclass\n",
        "4. Test the banking system by creating instances of different account types and performing transactions."
      ],
      "metadata": {
        "id": "NeXDUQOH-Xl2"
      }
    },
    {
      "cell_type": "code",
      "source": [
        "class BankAccount:\n",
        "    def __init__(self, account_holder, initial_balance=0.0):\n",
        "        self.__account_holder = account_holder\n",
        "        self.__balance = initial_balance\n",
        "\n",
        "    # Method to deposit money\n",
        "    def deposit(self, amount):\n",
        "        if amount > 0:\n",
        "            self.__balance += amount\n",
        "            print(f\"Deposited: ${amount:.2f}. New balance: ${self.__balance:.2f}.\")\n",
        "        else:\n",
        "            print(\"Deposit amount must be positive.\")\n",
        "\n",
        "    # Method to withdraw money\n",
        "    def withdraw(self, amount):\n",
        "        if amount > 0:\n",
        "            if amount <= self.__balance:\n",
        "                self.__balance -= amount\n",
        "                print(f\"Withdrew: ${amount:.2f}. New balance: ${self.__balance:.2f}.\")\n",
        "            else:\n",
        "                print(\"Insufficient funds.\")\n",
        "        else:\n",
        "            print(\"Withdrawal amount must be positive.\")\n",
        "\n",
        "    # Method to check balance\n",
        "    def check_balance(self):\n",
        "        print(f\"Current balance: ${self.__balance:.2f}\")\n",
        "\n",
        "    # Method to get account holder\n",
        "    def get_account_holder(self):\n",
        "        return self.__account_holder\n",
        "\n",
        "class SavingsAccount(BankAccount):\n",
        "    def __init__(self, account_holder, initial_balance=0.0, interest_rate=0.02):\n",
        "        super().__init__(account_holder, initial_balance)\n",
        "        self.__interest_rate = interest_rate\n",
        "\n",
        "    # Method to add interest\n",
        "    def add_interest(self):\n",
        "        interest = self.get_balance() * self.__interest_rate\n",
        "        self.deposit(interest)\n",
        "        print(f\"Interest added: ${interest:.2f}.\")\n",
        "\n",
        "    # Override method to check balance\n",
        "    def check_balance(self):\n",
        "        super().check_balance()\n",
        "        print(f\"Interest Rate: {self.__interest_rate * 100:.2f}%\")\n",
        "\n",
        "class CheckingAccount(BankAccount):\n",
        "    def __init__(self, account_holder, initial_balance=0.0, overdraft_limit=-500.0):\n",
        "        super().__init__(account_holder, initial_balance)\n",
        "        self.__overdraft_limit = overdraft_limit\n",
        "\n",
        "    # Override method to withdraw money with overdraft limit\n",
        "    def withdraw(self, amount):\n",
        "        if amount > 0:\n",
        "            if amount <= (self.get_balance() + self.__overdraft_limit):\n",
        "                super().withdraw(amount)\n",
        "            else:\n",
        "                print(f\"Withdrawal amount exceeds overdraft limit of ${self.__overdraft_limit:.2f}.\")\n",
        "        else:\n",
        "            print(\"Withdrawal amount must be positive.\")\n",
        "\n",
        "    # Override method to check balance\n",
        "    def check_balance(self):\n",
        "        super().check_balance()\n",
        "        print(f\"Overdraft Limit: ${self.__overdraft_limit:.2f}\")\n",
        "\n",
        "# Main function to demonstrate the usage of the banking system\n",
        "def main():\n",
        "    # Creating instances of SavingsAccount and CheckingAccount\n",
        "    savings = SavingsAccount(\"Alice\", 1000.0)\n",
        "    checking = CheckingAccount(\"Bob\", 500.0)\n",
        "\n",
        "    # Performing transactions on SavingsAccount\n",
        "    print(\"Savings Account Transactions:\")\n",
        "    savings.deposit(200.0)\n",
        "    savings.withdraw(150.0)\n",
        "    savings.add_interest()\n",
        "    savings.check_balance()\n",
        "\n",
        "    print(\"\\nChecking Account Transactions:\")\n",
        "    checking.deposit(100.0)\n",
        "    checking.withdraw(600.0)  # This should be allowed due to overdraft limit\n",
        "    checking.withdraw(100.0)  # This should exceed overdraft limit\n",
        "    checking.check_balance()\n",
        "\n",
        "if __name__ == \"__main__\":\n",
        "    main()\n"
      ],
      "metadata": {
        "id": "orA0gKkU9_go"
      },
      "execution_count": null,
      "outputs": []
    },
    {
      "cell_type": "markdown",
      "source": [
        "5.Write a Python program that models different animals and their sounds. Design a base class called\n",
        "`Animal` with a method `make_sound()`. Create subclasses like `Dog` and `Cat` that override the\n",
        "`make_sound()` method to produce appropriate sounds.\n",
        "\n",
        "\n",
        "Tasks\n",
        "1. Define the `Animal` class with a method `make_sound()`\n",
        "2. Create subclasses `Dog` and `Cat` that override the `make_sound()` method\n",
        "3. Implement the sound generation logic for each subclass\n",
        "4. Test the program by creating instances of `Dog` and `Cat` and calling the `make_sound()` method."
      ],
      "metadata": {
        "id": "lcqNULWq-yjs"
      }
    },
    {
      "cell_type": "code",
      "source": [
        "# Base class Animal\n",
        "class Animal:\n",
        "    def make_sound(self):\n",
        "        raise NotImplementedError(\"Subclasses must implement this method.\")\n",
        "\n",
        "# Subclass Dog\n",
        "class Dog(Animal):\n",
        "    def make_sound(self):\n",
        "        return \"Woof!\"\n",
        "\n",
        "# Subclass Cat\n",
        "class Cat(Animal):\n",
        "    def make_sound(self):\n",
        "        return \"Meow!\"\n",
        "\n",
        "# Main function to demonstrate the usage of the classes\n",
        "def main():\n",
        "    # Creating instances of Dog and Cat\n",
        "    dog = Dog()\n",
        "    cat = Cat()\n",
        "\n",
        "    # Demonstrating the make_sound method\n",
        "    print(\"Dog says:\", dog.make_sound())\n",
        "    print(\"Cat says:\", cat.make_sound())\n",
        "\n",
        "if __name__ == \"__main__\":\n",
        "    main()\n"
      ],
      "metadata": {
        "id": "j3WI4V9--dbk"
      },
      "execution_count": null,
      "outputs": []
    },
    {
      "cell_type": "markdown",
      "source": [
        "6.Write a code for Restaurant Management System Using OOPS\n",
        "Create a MenuItem class that has attributes such as name, description, price, and category\n",
        "Implement methods to add a new menu item, update menu item information, and remove a menu item\n",
        "from the menu\n",
        "Use encapsulation to hide the menu item's unique identification number\n",
        "Inherit from the MenuItem class to create a FoodItem class and a BeverageItem class, each with their own\n",
        "specific attributes and methods."
      ],
      "metadata": {
        "id": "tJvXgkOE_Wcp"
      }
    },
    {
      "cell_type": "code",
      "source": [
        "import itertools\n",
        "\n",
        "class MenuItem:\n",
        "    _id_counter = itertools.count(1)  # Unique ID generator\n",
        "\n",
        "    def __init__(self, name, description, price, category):\n",
        "        self.__id = next(MenuItem._id_counter)\n",
        "        self.__name = name\n",
        "        self.__description = description\n",
        "        self.__price = price\n",
        "        self.__category = category\n",
        "\n",
        "    # Getter for ID\n",
        "    def get_id(self):\n",
        "        return self.__id\n",
        "\n",
        "    # Getter and setter for name\n",
        "    def get_name(self):\n",
        "        return self.__name\n",
        "\n",
        "    def set_name(self, name):\n",
        "        self.__name = name\n",
        "\n",
        "    # Getter and setter for description\n",
        "    def get_description(self):\n",
        "        return self.__description\n",
        "\n",
        "    def set_description(self, description):\n",
        "        self.__description = description\n",
        "\n",
        "    # Getter and setter for price\n",
        "    def get_price(self):\n",
        "        return self.__price\n",
        "\n",
        "    def set_price(self, price):\n",
        "        if price >= 0:\n",
        "            self.__price = price\n",
        "        else:\n",
        "            print(\"Price cannot be negative.\")\n",
        "\n",
        "    # Getter and setter for category\n",
        "    def get_category(self):\n",
        "        return self.__category\n",
        "\n",
        "    def set_category(self, category):\n",
        "        self.__category = category\n",
        "\n",
        "    # Method to display menu item info\n",
        "    def display_info(self):\n",
        "        return (f\"ID: {self.__id}, Name: {self.__name}, \"\n",
        "                f\"Description: {self.__description}, Price: ${self.__price:.2f}, \"\n",
        "                f\"Category: {self.__category}\")\n",
        "\n",
        "class FoodItem(MenuItem):\n",
        "    def __init__(self, name, description, price, category, is_spicy=False):\n",
        "        super().__init__(name, description, price, category)\n",
        "        self.__is_spicy = is_spicy\n",
        "\n",
        "    # Getter and setter for is_spicy\n",
        "    def is_spicy(self):\n",
        "        return self.__is_spicy\n",
        "\n",
        "    def set_spicy(self, is_spicy):\n",
        "        self.__is_spicy = is_spicy\n",
        "\n",
        "    # Override display_info to include is_spicy\n",
        "    def display_info(self):\n",
        "        spicy_status = \"Spicy\" if self.__is_spicy else \"Not Spicy\"\n",
        "        return super().display_info() + f\", Spicy: {spicy_status}\"\n",
        "\n",
        "class BeverageItem(MenuItem):\n",
        "    def __init__(self, name, description, price, category, is_alcoholic=False):\n",
        "        super().__init__(name, description, price, category)\n",
        "        self.__is_alcoholic = is_alcoholic\n",
        "\n",
        "    # Getter and setter for is_alcoholic\n",
        "    def is_alcoholic(self):\n",
        "        return self.__is_alcoholic\n",
        "\n",
        "    def set_alcoholic(self, is_alcoholic):\n",
        "        self.__is_alcoholic = is_alcoholic\n",
        "\n",
        "    # Override display_info to include is_alcoholic\n",
        "    def display_info(self):\n",
        "        alcoholic_status = \"Alcoholic\" if self.__is_alcoholic else \"Non-Alcoholic\"\n",
        "        return super().display_info() + f\", Alcoholic: {alcoholic_status}\"\n",
        "\n",
        "# Main function to demonstrate the usage of the Restaurant Management System\n",
        "def main():\n",
        "    # Creating instances of FoodItem and BeverageItem\n",
        "    pizza = FoodItem(\"Pizza\", \"Delicious cheese pizza\", 12.99, \"Main Course\", is_spicy=True)\n",
        "    coke = BeverageItem(\"Coke\", \"Refreshing soft drink\", 1.99, \"Beverage\", is_alcoholic=False)\n",
        "\n",
        "    # Displaying information about the menu items\n",
        "    print(\"Menu Items:\")\n",
        "    print(pizza.display_info())\n",
        "    print(coke.display_info())\n",
        "\n",
        "    # Updating a menu item\n",
        "    pizza.set_price(13.99)\n",
        "    pizza.set_description(\"Delicious cheese pizza with extra toppings\")\n",
        "\n",
        "    # Displaying updated menu item information\n",
        "    print(\"\\nUpdated Menu Items:\")\n",
        "    print(pizza.display_info())\n",
        "    print(coke.display_info())\n",
        "\n",
        "if __name__ == \"__main__\":\n",
        "    main()\n"
      ],
      "metadata": {
        "id": "nQ0CZHti_Qlw"
      },
      "execution_count": null,
      "outputs": []
    },
    {
      "cell_type": "markdown",
      "source": [
        "7.Write a code for Hotel Management System using OOPS\n",
        "Create a Room class that has attributes such as room number, room type, rate, and availability (private)\n",
        "Implement methods to book a room, check in a guest, and check out a guest\n",
        "Use encapsulation to hide the room's unique identification number\n",
        "Inherit from the Room class to create a SuiteRoom class and a StandardRoom class, each with their own\n",
        "specific attributes and methods."
      ],
      "metadata": {
        "id": "szmq9mTl_zP0"
      }
    },
    {
      "cell_type": "code",
      "source": [
        "class Room:\n",
        "    _id_counter = 1  # Unique ID generator\n",
        "\n",
        "    def __init__(self, room_type, rate):\n",
        "        self.__id = Room._id_counter\n",
        "        Room._id_counter += 1\n",
        "        self.__room_type = room_type\n",
        "        self.__rate = rate\n",
        "        self.__availability = True  # True if the room is available, False otherwise\n",
        "        self.__guest_name = None  # To store the guest's name if the room is occupied\n",
        "\n",
        "    # Getter for ID\n",
        "    def get_id(self):\n",
        "        return self.__id\n",
        "\n",
        "    # Getter and setter for room_type\n",
        "    def get_room_type(self):\n",
        "        return self.__room_type\n",
        "\n",
        "    def set_room_type(self, room_type):\n",
        "        self.__room_type = room_type\n",
        "\n",
        "    # Getter and setter for rate\n",
        "    def get_rate(self):\n",
        "        return self.__rate\n",
        "\n",
        "    def set_rate(self, rate):\n",
        "        if rate >= 0:\n",
        "            self.__rate = rate\n",
        "        else:\n",
        "            print(\"Rate cannot be negative.\")\n",
        "\n",
        "    # Method to check availability\n",
        "    def is_available(self):\n",
        "        return self.__availability\n",
        "\n",
        "    # Method to book the room\n",
        "    def book_room(self):\n",
        "        if self.__availability:\n",
        "            self.__availability = False\n",
        "            print(f\"Room {self.__id} booked successfully.\")\n",
        "        else:\n",
        "            print(f\"Room {self.__id} is not available.\")\n",
        "\n",
        "    # Method to check in a guest\n",
        "    def check_in(self, guest_name):\n",
        "        if not self.__availability:\n",
        "            print(f\"Room {self.__id} is already occupied.\")\n",
        "        else:\n",
        "            self.__availability = False\n",
        "            self.__guest_name = guest_name\n",
        "            print(f\"Checked in {guest_name} to room {self.__id}.\")\n",
        "\n",
        "    # Method to check out a guest\n",
        "    def check_out(self):\n",
        "        if self.__availability:\n",
        "            print(f\"Room {self.__id} is already vacant.\")\n",
        "        else:\n",
        "            print(f\"Checked out {self.__guest_name} from room {self.__id}.\")\n",
        "            self.__guest_name = None\n",
        "            self.__availability = True\n",
        "\n",
        "    # Method to display room information\n",
        "    def display_info(self):\n",
        "        availability_status = \"Available\" if self.__availability else \"Occupied\"\n",
        "        return (f\"Room ID: {self.__id}, Room Type: {self.__room_type}, \"\n",
        "                f\"Rate: ${self.__rate:.2f}, Availability: {availability_status}\")\n",
        "\n",
        "class SuiteRoom(Room):\n",
        "    def __init__(self, rate, amenities):\n",
        "        super().__init__(\"Suite\", rate)\n",
        "        self.__amenities = amenities\n",
        "\n",
        "    # Getter and setter for amenities\n",
        "    def get_amenities(self):\n",
        "        return self.__amenities\n",
        "\n",
        "    def set_amenities(self, amenities):\n",
        "        self.__amenities = amenities\n",
        "\n",
        "    # Override display_info to include amenities\n",
        "    def display_info(self):\n",
        "        return super().display_info() + f\", Amenities: {', '.join(self.__amenities)}\"\n",
        "\n",
        "class StandardRoom(Room):\n",
        "    def __init__(self, rate, floor):\n",
        "        super().__init__(\"Standard\", rate)\n",
        "        self.__floor = floor\n",
        "\n",
        "    # Getter and setter for floor\n",
        "    def get_floor(self):\n",
        "        return self.__floor\n",
        "\n",
        "    def set_floor(self, floor):\n",
        "        self.__floor = floor\n",
        "\n",
        "    # Override display_info to include floor information\n",
        "    def display_info(self):\n",
        "        return super().display_info() + f\", Floor: {self.__floor}\"\n",
        "\n",
        "# Main function to demonstrate the usage of the Hotel Management System\n",
        "def main():\n",
        "    # Creating instances of SuiteRoom and StandardRoom\n",
        "    suite = SuiteRoom(200.0, [\"King Bed\", \"Sea View\", \"Mini Bar\"])\n",
        "    standard = StandardRoom(100.0, 2)\n",
        "\n",
        "    # Displaying information about the rooms\n",
        "    print(\"Room Information:\")\n",
        "    print(suite.display_info())\n",
        "    print(standard.display_info())\n",
        "\n",
        "    # Booking and checking in a guest to the suite room\n",
        "    suite.book_room()\n",
        "    suite.check_in(\"Alice\")\n",
        "\n",
        "    # Attempting to book and check in the same room again\n",
        "    suite.book_room()  # Should show the room is not available\n",
        "    suite.check_in(\"Bob\")  # Should show the room is already occupied\n",
        "\n",
        "    # Checking out the guest\n",
        "    suite.check_out()\n",
        "\n",
        "    # Displaying room information after checking out\n",
        "    print(\"\\nUpdated Room Information:\")\n",
        "    print(suite.display_info())\n",
        "\n",
        "    # Booking and checking in a guest to the standard room\n",
        "    standard.book_room()\n",
        "    standard.check_in(\"Charlie\")\n",
        "\n",
        "    # Attempting to check out from the standard room\n",
        "    standard.check_out()\n",
        "\n",
        "    # Displaying room information after checking out\n",
        "    print(\"\\nUpdated Room Information:\")\n",
        "    print(standard.display_info())\n",
        "\n",
        "if __name__ == \"__main__\":\n",
        "    main()\n"
      ],
      "metadata": {
        "id": "MzmzRNBi_vRS"
      },
      "execution_count": null,
      "outputs": []
    },
    {
      "cell_type": "markdown",
      "source": [
        "8.Write a code for Fitness Club Management System using OOPS\n",
        "Create a Member class that has attributes such as name, age, membership type, and membership status\n",
        "(private)\n",
        "Implement methods to register a new member, renew a membership, and cancel a membership\n",
        "Use encapsulation to hide the member's unique identification number\n",
        "Inherit from the Member class to create a FamilyMember class and an IndividualMember class, each with\n",
        "their own specific attributes and methods"
      ],
      "metadata": {
        "id": "kHBzJGVGAHMc"
      }
    },
    {
      "cell_type": "code",
      "source": [
        "import itertools\n",
        "\n",
        "class Member:\n",
        "    _id_counter = itertools.count(1)  # Unique ID generator\n",
        "\n",
        "    def __init__(self, name, age, membership_type):\n",
        "        self.__id = next(Member._id_counter)\n",
        "        self.__name = name\n",
        "        self.__age = age\n",
        "        self.__membership_type = membership_type\n",
        "        self.__membership_status = 'Active'  # Default status is Active\n",
        "\n",
        "    # Getter for ID\n",
        "    def get_id(self):\n",
        "        return self.__id\n",
        "\n",
        "    # Getter and setter for name\n",
        "    def get_name(self):\n",
        "        return self.__name\n",
        "\n",
        "    def set_name(self, name):\n",
        "        self.__name = name\n",
        "\n",
        "    # Getter and setter for age\n",
        "    def get_age(self):\n",
        "        return self.__age\n",
        "\n",
        "    def set_age(self, age):\n",
        "        if age > 0:\n",
        "            self.__age = age\n",
        "        else:\n",
        "            print(\"Age must be positive.\")\n",
        "\n",
        "    # Getter and setter for membership_type\n",
        "    def get_membership_type(self):\n",
        "        return self.__membership_type\n",
        "\n",
        "    def set_membership_type(self, membership_type):\n",
        "        self.__membership_type = membership_type\n",
        "\n",
        "    # Getter and setter for membership_status\n",
        "    def get_membership_status(self):\n",
        "        return self.__membership_status\n",
        "\n",
        "    def set_membership_status(self, status):\n",
        "        if status in ['Active', 'Inactive']:\n",
        "            self.__membership_status = status\n",
        "        else:\n",
        "            print(\"Invalid membership status.\")\n",
        "\n",
        "    # Method to register a new member\n",
        "    def register_member(self):\n",
        "        print(f\"Member {self.__name} registered with ID {self.__id}.\")\n",
        "\n",
        "    # Method to renew membership\n",
        "    def renew_membership(self):\n",
        "        if self.__membership_status == 'Active':\n",
        "            print(f\"Member {self.__name} already has an active membership.\")\n",
        "        else:\n",
        "            self.__membership_status = 'Active'\n",
        "            print(f\"Membership for {self.__name} renewed.\")\n",
        "\n",
        "    # Method to cancel membership\n",
        "    def cancel_membership(self):\n",
        "        if self.__membership_status == 'Inactive':\n",
        "            print(f\"Member {self.__name} already has an inactive membership.\")\n",
        "        else:\n",
        "            self.__membership_status = 'Inactive'\n",
        "            print(f\"Membership for {self.__name} canceled.\")\n",
        "\n",
        "    # Method to display member information\n",
        "    def display_info(self):\n",
        "        return (f\"ID: {self.__id}, Name: {self.__name}, Age: {self.__age}, \"\n",
        "                f\"Membership Type: {self.__membership_type}, Status: {self.__membership_status}\")\n",
        "\n",
        "class FamilyMember(Member):\n",
        "    def __init__(self, name, age, membership_type, number_of_dependents):\n",
        "        super().__init__(name, age, membership_type)\n",
        "        self.__number_of_dependents = number_of_dependents\n",
        "\n",
        "    # Getter and setter for number_of_dependents\n",
        "    def get_number_of_dependents(self):\n",
        "        return self.__number_of_dependents\n",
        "\n",
        "    def set_number_of_dependents(self, number_of_dependents):\n",
        "        if number_of_dependents >= 0:\n",
        "            self.__number_of_dependents = number_of_dependents\n",
        "        else:\n",
        "            print(\"Number of dependents cannot be negative.\")\n",
        "\n",
        "    # Override display_info to include number_of_dependents\n",
        "    def display_info(self):\n",
        "        return super().display_info() + f\", Number of Dependents: {self.__number_of_dependents}\"\n",
        "\n",
        "class IndividualMember(Member):\n",
        "    def __init__(self, name, age, membership_type, personal_trainer=None):\n",
        "        super().__init__(name, age, membership_type)\n",
        "        self.__personal_trainer = personal_trainer\n",
        "\n",
        "    # Getter and setter for personal_trainer\n",
        "    def get_personal_trainer(self):\n",
        "        return self.__personal_trainer\n",
        "\n",
        "    def set_personal_trainer(self, personal_trainer):\n",
        "        self.__personal_trainer = personal_trainer\n",
        "\n",
        "    # Override display_info to include personal_trainer\n",
        "    def display_info(self):\n",
        "        trainer_info = f\", Personal Trainer: {self.__personal_trainer}\" if self.__personal_trainer else \"\"\n",
        "        return super().display_info() + trainer_info\n",
        "\n",
        "# Main function to demonstrate the usage of the Fitness Club Management System\n",
        "def main():\n",
        "    # Creating instances of FamilyMember and IndividualMember\n",
        "    family_member = FamilyMember(\"John Doe\", 40, \"Family\", 3)\n",
        "    individual_member = IndividualMember(\"Jane Smith\", 30, \"Individual\", \"Alex Johnson\")\n",
        "\n",
        "    # Registering and displaying information about members\n",
        "    family_member.register_member()\n",
        "    individual_member.register_member()\n",
        "\n",
        "    print(\"\\nMember Information:\")\n",
        "    print(family_member.display_info())\n",
        "    print(individual_member.display_info())\n",
        "\n",
        "    # Renewing and canceling memberships\n",
        "    family_member.cancel_membership()\n",
        "    individual_member.renew_membership()\n",
        "\n",
        "    # Displaying updated information\n",
        "    print(\"\\nUpdated Member Information:\")\n",
        "    print(family_member.display_info())\n",
        "    print(individual_member.display_info())\n",
        "\n",
        "if __name__ == \"__main__\":\n",
        "    main()\n"
      ],
      "metadata": {
        "id": "aTQjIDj1_9Gs"
      },
      "execution_count": null,
      "outputs": []
    },
    {
      "cell_type": "markdown",
      "source": [
        "9.Write a code for Event Management System using OOPS\n",
        "Create an Event class that has attributes such as name, date, time, location, and list of attendees (private)\n",
        "Implement methods to create a new event, add or remove attendees, and get the total number of\n",
        "attendees\n",
        "Use encapsulation to hide the event's unique identification number\n",
        "Inherit from the Event class to create a PrivateEvent class and a PublicEvent class, each with their own\n",
        "specific attributes and methods."
      ],
      "metadata": {
        "id": "UEWNeOtjAfiw"
      }
    },
    {
      "cell_type": "code",
      "source": [
        "import itertools\n",
        "\n",
        "class Event:\n",
        "    _id_counter = itertools.count(1)  # Unique ID generator\n",
        "\n",
        "    def __init__(self, name, date, time, location):\n",
        "        self.__id = next(Event._id_counter)\n",
        "        self.__name = name\n",
        "        self.__date = date\n",
        "        self.__time = time\n",
        "        self.__location = location\n",
        "        self.__attendees = []\n",
        "\n",
        "    # Getter for ID\n",
        "    def get_id(self):\n",
        "        return self.__id\n",
        "\n",
        "    # Getter and setter for name\n",
        "    def get_name(self):\n",
        "        return self.__name\n",
        "\n",
        "    def set_name(self, name):\n",
        "        self.__name = name\n",
        "\n",
        "    # Getter and setter for date\n",
        "    def get_date(self):\n",
        "        return self.__date\n",
        "\n",
        "    def set_date(self, date):\n",
        "        self.__date = date\n",
        "\n",
        "    # Getter and setter for time\n",
        "    def get_time(self):\n",
        "        return self.__time\n",
        "\n",
        "    def set_time(self, time):\n",
        "        self.__time = time\n",
        "\n",
        "    # Getter and setter for location\n",
        "    def get_location(self):\n",
        "        return self.__location\n",
        "\n",
        "    def set_location(self, location):\n",
        "        self.__location = location\n",
        "\n",
        "    # Method to add an attendee\n",
        "    def add_attendee(self, attendee):\n",
        "        if attendee not in self.__attendees:\n",
        "            self.__attendees.append(attendee)\n",
        "            print(f\"{attendee} has been added to the event.\")\n",
        "        else:\n",
        "            print(f\"{attendee} is already attending the event.\")\n",
        "\n",
        "    # Method to remove an attendee\n",
        "    def remove_attendee(self, attendee):\n",
        "        if attendee in self.__attendees:\n",
        "            self.__attendees.remove(attendee)\n",
        "            print(f\"{attendee} has been removed from the event.\")\n",
        "        else:\n",
        "            print(f\"{attendee} was not found in the attendee list.\")\n",
        "\n",
        "    # Method to get the total number of attendees\n",
        "    def get_total_attendees(self):\n",
        "        return len(self.__attendees)\n",
        "\n",
        "    # Method to display event information\n",
        "    def display_info(self):\n",
        "        return (f\"Event ID: {self.__id}, Name: {self.__name}, Date: {self.__date}, \"\n",
        "                f\"Time: {self.__time}, Location: {self.__location}, \"\n",
        "                f\"Total Attendees: {self.get_total_attendees()}\")\n",
        "\n",
        "class PrivateEvent(Event):\n",
        "    def __init__(self, name, date, time, location, guest_list):\n",
        "        super().__init__(name, date, time, location)\n",
        "        self.__guest_list = guest_list\n",
        "\n",
        "    # Getter and setter for guest_list\n",
        "    def get_guest_list(self):\n",
        "        return self.__guest_list\n",
        "\n",
        "    def set_guest_list(self, guest_list):\n",
        "        self.__guest_list = guest_list\n",
        "\n",
        "    # Override add_attendee to ensure only invited guests can be added\n",
        "    def add_attendee(self, attendee):\n",
        "        if attendee in self.__guest_list:\n",
        "            super().add_attendee(attendee)\n",
        "        else:\n",
        "            print(f\"{attendee} is not on the guest list and cannot be added.\")\n",
        "\n",
        "    # Override display_info to include guest_list information\n",
        "    def display_info(self):\n",
        "        return super().display_info() + f\", Guest List: {', '.join(self.__guest_list)}\"\n",
        "\n",
        "class PublicEvent(Event):\n",
        "    def __init__(self, name, date, time, location, max_capacity):\n",
        "        super().__init__(name, date, time, location)\n",
        "        self.__max_capacity = max_capacity\n",
        "\n",
        "    # Getter and setter for max_capacity\n",
        "    def get_max_capacity(self):\n",
        "        return self.__max_capacity\n",
        "\n",
        "    def set_max_capacity(self, max_capacity):\n",
        "        self.__max_capacity = max_capacity\n",
        "\n",
        "    # Override add_attendee to check if the event is at full capacity\n",
        "    def add_attendee(self, attendee):\n",
        "        if self.get_total_attendees() < self.__max_capacity:\n",
        "            super().add_attendee(attendee)\n",
        "        else:\n",
        "            print(\"Cann\n"
      ],
      "metadata": {
        "id": "N-wN6WCzAUTW"
      },
      "execution_count": null,
      "outputs": []
    },
    {
      "cell_type": "markdown",
      "source": [
        "10.Write a code for Airline Reservation System using OOPS\n",
        "Create a Flight class that has attributes such as flight number, departure and arrival airports, departure and\n",
        "arrival times, and available seats (private)\n",
        "Implement methods to book a seat, cancel a reservation, and get the remaining available seats\n",
        "Use encapsulation to hide the flight's unique identification number\n",
        "Inherit from the Flight class to create a DomesticFlight class and an InternationalFlight class, each with their\n",
        "own specific attributes and methods."
      ],
      "metadata": {
        "id": "Hc6wyy_dA4St"
      }
    },
    {
      "cell_type": "code",
      "source": [
        "import itertools\n",
        "\n",
        "class Event:\n",
        "    _id_counter = itertools.count(1)  # Unique ID generator\n",
        "\n",
        "    def __init__(self, name, date, time, location):\n",
        "        self.__id = next(Event._id_counter)\n",
        "        self.__name = name\n",
        "        self.__date = date\n",
        "        self.__time = time\n",
        "        self.__location = location\n",
        "        self.__attendees = []\n",
        "\n",
        "    # Getter for ID\n",
        "    def get_id(self):\n",
        "        return self.__id\n",
        "\n",
        "    # Getter and setter for name\n",
        "    def get_name(self):\n",
        "        return self.__name\n",
        "\n",
        "    def set_name(self, name):\n",
        "        self.__name = name\n",
        "\n",
        "    # Getter and setter for date\n",
        "    def get_date(self):\n",
        "        return self.__date\n",
        "\n",
        "    def set_date(self, date):\n",
        "        self.__date = date\n",
        "\n",
        "    # Getter and setter for time\n",
        "    def get_time(self):\n",
        "        return self.__time\n",
        "\n",
        "    def set_time(self, time):\n",
        "        self.__time = time\n",
        "\n",
        "    # Getter and setter for location\n",
        "    def get_location(self):\n",
        "        return self.__location\n",
        "\n",
        "    def set_location(self, location):\n",
        "        self.__location = location\n",
        "\n",
        "    # Method to add an attendee\n",
        "    def add_attendee(self, attendee):\n",
        "        if attendee not in self.__attendees:\n",
        "            self.__attendees.append(attendee)\n",
        "            print(f\"{attendee} has been added to the event.\")\n",
        "        else:\n",
        "            print(f\"{attendee} is already attending the event.\")\n",
        "\n",
        "    # Method to remove an attendee\n",
        "    def remove_attendee(self, attendee):\n",
        "        if attendee in self.__attendees:\n",
        "            self.__attendees.remove(attendee)\n",
        "            print(f\"{attendee} has been removed from the event.\")\n",
        "        else:\n",
        "            print(f\"{attendee} was not found in the attendee list.\")\n",
        "\n",
        "    # Method to get the total number of attendees\n",
        "    def get_total_attendees(self):\n",
        "        return len(self.__attendees)\n",
        "\n",
        "    # Method to display event information\n",
        "    def display_info(self):\n",
        "        return (f\"Event ID: {self.__id}, Name: {self.__name}, Date: {self.__date}, \"\n",
        "                f\"Time: {self.__time}, Location: {self.__location}, \"\n",
        "                f\"Total Attendees: {self.get_total_attendees()}\")\n",
        "\n",
        "class PrivateEvent(Event):\n",
        "    def __init__(self, name, date, time, location, guest_list):\n",
        "        super().__init__(name, date, time, location)\n",
        "        self.__guest_list = guest_list\n",
        "\n",
        "    # Getter and setter for guest_list\n",
        "    def get_guest_list(self):\n",
        "        return self.__guest_list\n",
        "\n",
        "    def set_guest_list(self, guest_list):\n",
        "        self.__guest_list = guest_list\n",
        "\n",
        "    # Override add_attendee to ensure only invited guests can be added\n",
        "    def add_attendee(self, attendee):\n",
        "        if attendee in self.__guest_list:\n",
        "            super().add_attendee(attendee)\n",
        "        else:\n",
        "            print(f\"{attendee} is not on the guest list and cannot be added.\")\n",
        "\n",
        "    # Override display_info to include guest_list information\n",
        "    def display_info(self):\n",
        "        return super().display_info() + f\", Guest List: {', '.join(self.__guest_list)}\"\n",
        "\n",
        "class PublicEvent(Event):\n",
        "    def __init__(self, name, date, time, location, max_capacity):\n",
        "        super().__init__(name, date, time, location)\n",
        "        self.__max_capacity = max_capacity\n",
        "\n",
        "    # Getter and setter for max_capacity\n",
        "    def get_max_capacity(self):\n",
        "        return self.__max_capacity\n",
        "\n",
        "    def set_max_capacity(self, max_capacity):\n",
        "        self.__max_capacity = max_capacity\n",
        "\n",
        "    # Override add_attendee to check if the event is at full capacity\n",
        "    def add_attendee(self, attendee):\n",
        "        if self.get_total_attendees() < self.__max_capacity:\n",
        "            super().add_attendee(attendee)\n",
        "        else:\n",
        "            print(\"Cannot add attendee: event has reached maximum capacity.\")\n",
        "\n",
        "    # Override display_info to include max_capacity information\n",
        "    def display_info(self):\n",
        "        return super().display_info() + f\", Max Capacity: {self.__max_capacity}\"\n",
        "\n",
        "# Main function to demonstrate the usage of the Event Management System\n",
        "def main():\n",
        "    # Creating instances of PrivateEvent and PublicEvent\n",
        "    private_event = PrivateEvent(\"Exclusive Gala\", \"2024-12-15\", \"19:00\", \"Rooftop Lounge\", [\"Alice\", \"Bob\"])\n",
        "    public_event = PublicEvent(\"Community Fair\", \"2024-09-10\", \"10:00\", \"Central Park\", 100)\n",
        "\n",
        "    # Registering attendees and displaying information about the events\n",
        "    private_event.add_attendee(\"Alice\")\n",
        "    private_event.add_attendee(\"Charlie\")  # Should not be added as Charlie is not on the guest list\n",
        "\n",
        "    public_event.add_attendee(\"David\")\n",
        "    public_event.add_attendee(\"Eva\")\n",
        "\n",
        "    # Adding more attendees to reach capacity\n",
        "    for i in range(98):\n",
        "        public_event.add_attendee(f\"Guest {i+1}\")\n",
        "\n",
        "    # Attempt to add more attendees to the full-capacity event\n",
        "    public_event.add_attendee(\"Full Capacity Guest\")  # Should not be added\n",
        "\n",
        "    print(\"\\nEvent Information:\")\n",
        "    print(private_event.display_info())\n",
        "    print(public_event.display_info())\n",
        "\n",
        "if __name__ == \"__main__\":\n",
        "    main()\n"
      ],
      "metadata": {
        "id": "UmO3hwWqAxQa"
      },
      "execution_count": null,
      "outputs": []
    },
    {
      "cell_type": "markdown",
      "source": [
        "1. Define a Python module named constants.py containing constants like pi and the speed of light."
      ],
      "metadata": {
        "id": "YsCZg7XQBmIS"
      }
    },
    {
      "cell_type": "markdown",
      "source": [
        "To define a Python module named `constants.py` containing constants like `pi` and the `speed_of_light`, you would follow these steps:\n",
        "\n",
        "1. **Create the Python module**: Create a file named `constants.py`.\n",
        "\n",
        "2. **Define the constants**: In this file, you'll define the constants you want to include.\n",
        "\n",
        "Here's how you can structure the `constants.py` file:\n",
        "\n",
        "```python\n",
        "# constants.py\n",
        "\n",
        "# Mathematical constant: Pi\n",
        "PI = 3.141592653589793\n",
        "\n",
        "# Speed of light in meters per second (approximate value)\n",
        "SPEED_OF_LIGHT = 299792458\n",
        "\n",
        "# Gravitational constant in m^3 kg^-1 s^-2\n",
        "GRAVITATIONAL_CONSTANT = 6.67430e-11\n",
        "\n",
        "# Planck constant in Joule seconds\n",
        "PLANCK_CONSTANT = 6.62607015e-34\n",
        "```\n",
        "\n",
        "### Explanation\n",
        "\n",
        "- **`PI`**: The mathematical constant π (pi) with an approximate value of 3.141592653589793.\n",
        "- **`SPEED_OF_LIGHT`**: The speed of light in a vacuum, approximately 299,792,458 meters per second.\n",
        "- **`GRAVITATIONAL_CONSTANT`**: The gravitational constant, which is used in the calculation of gravitational forces.\n",
        "- **`PLANCK_CONSTANT`**: The Planck constant, important in quantum mechanics.\n",
        "\n",
        "### How to Use the Constants Module\n",
        "\n",
        "Once you have the `constants.py` module, you can import and use these constants in other Python files. Here’s an example of how you might use this module in another script:\n",
        "\n",
        "```python\n",
        "# main.py\n",
        "\n",
        "import constants\n",
        "\n",
        "def calculate_circumference(radius):\n",
        "    return 2 * constants.PI * radius\n",
        "\n",
        "def energy_of_photon(frequency):\n",
        "    return constants.PLANCK_CONSTANT * frequency\n",
        "\n",
        "def main():\n",
        "    radius = 10  # example radius in meters\n",
        "    frequency = 5e14  # example frequency in Hz\n",
        "    \n",
        "    circumference = calculate_circumference(radius)\n",
        "    photon_energy = energy_of_photon(frequency)\n",
        "    \n",
        "    print(f\"The circumference of a circle with radius {radius} meters is {circumference} meters.\")\n",
        "    print(f\"The energy of a photon with frequency {frequency} Hz is {photon_energy} Joules.\")\n",
        "\n",
        "if __name__ == \"__main__\":\n",
        "    main()\n",
        "```\n",
        "\n",
        "### Explanation\n",
        "\n",
        "- **`import constants`**: This statement imports the `constants` module so that you can use its constants in the `main.py` script.\n",
        "- **`calculate_circumference()`**: Uses the `PI` constant to compute the circumference of a circle.\n",
        "- **`energy_of_photon()`**: Uses the `PLANCK_CONSTANT` to calculate the energy of a photon based on its frequency.\n",
        "\n",
        "By following this approach, you can easily manage and access commonly used constants across different modules and scripts in your Python project."
      ],
      "metadata": {
        "id": "bn4AX1EwBpNH"
      }
    },
    {
      "cell_type": "markdown",
      "source": [
        "12. Write a Python module named calculator.py containing functions for addition, subtraction,\n",
        "multiplication, and division."
      ],
      "metadata": {
        "id": "NrdNLcn1B014"
      }
    },
    {
      "cell_type": "code",
      "source": [
        "# calculator.py\n",
        "\n",
        "def add(x, y):\n",
        "    \"\"\"\n",
        "    Function to add two numbers.\n",
        "\n",
        "    Args:\n",
        "        x (float): The first number.\n",
        "        y (float): The second number.\n",
        "\n",
        "    Returns:\n",
        "        float: The sum of x and y.\n",
        "    \"\"\"\n",
        "    return x + y\n",
        "\n",
        "def subtract(x, y):\n",
        "    \"\"\"\n",
        "    Function to subtract the second number from the first number.\n",
        "\n",
        "    Args:\n",
        "        x (float): The first number.\n",
        "        y (float): The second number.\n",
        "\n",
        "    Returns:\n",
        "        float: The difference between x and y.\n",
        "    \"\"\"\n",
        "    return x - y\n",
        "\n",
        "def multiply(x, y):\n",
        "    \"\"\"\n",
        "    Function to multiply two numbers.\n",
        "\n",
        "    Args:\n",
        "        x (float): The first number.\n",
        "        y (float): The second number.\n",
        "\n",
        "    Returns:\n",
        "        float: The product of x and y.\n",
        "    \"\"\"\n",
        "    return x * y\n",
        "\n",
        "def divide(x, y):\n",
        "    \"\"\"\n",
        "    Function to divide the first number by the second number.\n",
        "\n",
        "    Args:\n",
        "        x (float): The numerator.\n",
        "        y (float): The denominator.\n",
        "\n",
        "    Returns:\n",
        "        float: The quotient of x divided by y.\n",
        "\n",
        "    Raises:\n",
        "        ValueError: If y is zero, as division by zero is not allowed.\n",
        "    \"\"\"\n",
        "    if y == 0:\n",
        "        raise ValueError(\"Cannot divide by zero.\")\n",
        "    return x / y\n"
      ],
      "metadata": {
        "id": "RFc2LCPwA61C"
      },
      "execution_count": null,
      "outputs": []
    },
    {
      "cell_type": "code",
      "source": [
        "# main.py\n",
        "\n",
        "import calculator\n",
        "\n",
        "def main():\n",
        "    # Example numbers\n",
        "    a = 10\n",
        "    b = 5\n",
        "\n",
        "    # Performing calculations\n",
        "    print(f\"Addition: {a} + {b} = {calculator.add(a, b)}\")\n",
        "    print(f\"Subtraction: {a} - {b} = {calculator.subtract(a, b)}\")\n",
        "    print(f\"Multiplication: {a} * {b} = {calculator.multiply(a, b)}\")\n",
        "\n",
        "    try:\n",
        "        print(f\"Division: {a} / {b} = {calculator.divide(a, b)}\")\n",
        "    except ValueError as e:\n",
        "        print(e)\n",
        "\n",
        "if __name__ == \"__main__\":\n",
        "    main()\n"
      ],
      "metadata": {
        "id": "RUNk0dJcB5ct"
      },
      "execution_count": null,
      "outputs": []
    },
    {
      "cell_type": "markdown",
      "source": [
        "13. Implement a Python package structure for a project named ecommerce, containing modules for product\n",
        "management and order processing."
      ],
      "metadata": {
        "id": "FRADiUtdCBT-"
      }
    },
    {
      "cell_type": "markdown",
      "source": [
        "To implement a Python package structure for a project named `ecommerce`, you need to create a well-organized directory structure that includes modules for product management and order processing. Here’s a step-by-step guide to setting up the package:\n",
        "\n",
        "### 1. Directory Structure\n",
        "\n",
        "Create the following directory structure:\n",
        "\n",
        "```\n",
        "ecommerce/\n",
        "│\n",
        "├── ecommerce/\n",
        "│   ├── __init__.py\n",
        "│   ├── product_management.py\n",
        "│   └── order_processing.py\n",
        "│\n",
        "├── tests/\n",
        "│   ├── __init__.py\n",
        "│   ├── test_product_management.py\n",
        "│   └── test_order_processing.py\n",
        "│\n",
        "├── setup.py\n",
        "└── README.md\n",
        "```\n",
        "\n",
        "### 2. Create the Package Modules\n",
        "\n",
        "**`ecommerce/__init__.py`**: This file makes the `ecommerce` directory a package. It can be empty or include package-level docstrings and initialization code.\n",
        "\n",
        "```python\n",
        "# ecommerce/__init__.py\n",
        "\n",
        "\"\"\"\n",
        "Ecommerce Package\n",
        "\"\"\"\n",
        "```\n",
        "\n",
        "**`ecommerce/product_management.py`**: Contains functions and classes related to product management.\n",
        "\n",
        "```python\n",
        "# ecommerce/product_management.py\n",
        "\n",
        "class Product:\n",
        "    def __init__(self, name, price, stock):\n",
        "        self.name = name\n",
        "        self.price = price\n",
        "        self.stock = stock\n",
        "\n",
        "    def update_stock(self, quantity):\n",
        "        \"\"\"Update the stock of the product.\"\"\"\n",
        "        if quantity < 0 and abs(quantity) > self.stock:\n",
        "            raise ValueError(\"Insufficient stock to remove.\")\n",
        "        self.stock += quantity\n",
        "        return self.stock\n",
        "\n",
        "    def __str__(self):\n",
        "        return f\"Product(name={self.name}, price={self.price}, stock={self.stock})\"\n",
        "\n",
        "def list_products(products):\n",
        "    \"\"\"List all products.\"\"\"\n",
        "    return [str(product) for product in products]\n",
        "```\n",
        "\n",
        "**`ecommerce/order_processing.py`**: Contains functions and classes related to order processing.\n",
        "\n",
        "```python\n",
        "# ecommerce/order_processing.py\n",
        "\n",
        "class Order:\n",
        "    def __init__(self, product, quantity):\n",
        "        self.product = product\n",
        "        self.quantity = quantity\n",
        "        self.total_price = self.calculate_total_price()\n",
        "\n",
        "    def calculate_total_price(self):\n",
        "        \"\"\"Calculate the total price of the order.\"\"\"\n",
        "        return self.product.price * self.quantity\n",
        "\n",
        "    def process_order(self):\n",
        "        \"\"\"Process the order by updating the stock.\"\"\"\n",
        "        if self.quantity > self.product.stock:\n",
        "            raise ValueError(\"Not enough stock to fulfill the order.\")\n",
        "        self.product.update_stock(-self.quantity)\n",
        "        return f\"Order processed for {self.quantity} units of {self.product.name}.\"\n",
        "\n",
        "    def __str__(self):\n",
        "        return f\"Order(product={self.product.name}, quantity={self.quantity}, total_price={self.total_price})\"\n",
        "```\n",
        "\n",
        "### 3. Create Test Modules\n",
        "\n",
        "**`tests/__init__.py`**: This file makes the `tests` directory a package. It can be empty or include test-specific setup code.\n",
        "\n",
        "```python\n",
        "# tests/__init__.py\n",
        "\n",
        "\"\"\"\n",
        "Test package for ecommerce\n",
        "\"\"\"\n",
        "```\n",
        "\n",
        "**`tests/test_product_management.py`**: Contains unit tests for the `product_management` module.\n",
        "\n",
        "```python\n",
        "# tests/test_product_management.py\n",
        "\n",
        "import unittest\n",
        "from ecommerce.product_management import Product, list_products\n",
        "\n",
        "class TestProductManagement(unittest.TestCase):\n",
        "\n",
        "    def setUp(self):\n",
        "        self.product = Product(\"Laptop\", 1000.00, 10)\n",
        "\n",
        "    def test_update_stock(self):\n",
        "        self.product.update_stock(5)\n",
        "        self.assertEqual(self.product.stock, 15)\n",
        "\n",
        "    def test_update_stock_insufficient(self):\n",
        "        with self.assertRaises(ValueError):\n",
        "            self.product.update_stock(-20)\n",
        "\n",
        "    def test_list_products(self):\n",
        "        products = [self.product]\n",
        "        product_list = list_products(products)\n",
        "        self.assertEqual(product_list, [\"Product(name=Laptop, price=1000.0, stock=10)\"])\n",
        "\n",
        "if __name__ == '__main__':\n",
        "    unittest.main()\n",
        "```\n",
        "\n",
        "**`tests/test_order_processing.py`**: Contains unit tests for the `order_processing` module.\n",
        "\n",
        "```python\n",
        "# tests/test_order_processing.py\n",
        "\n",
        "import unittest\n",
        "from ecommerce.product_management import Product\n",
        "from ecommerce.order_processing import Order\n",
        "\n",
        "class TestOrderProcessing(unittest.TestCase):\n",
        "\n",
        "    def setUp(self):\n",
        "        self.product = Product(\"Phone\", 500.00, 20)\n",
        "\n",
        "    def test_calculate_total_price(self):\n",
        "        order = Order(self.product, 2)\n",
        "        self.assertEqual(order.total_price, 1000.00)\n",
        "\n",
        "    def test_process_order(self):\n",
        "        order = Order(self.product, 2)\n",
        "        result = order.process_order()\n",
        "        self.assertEqual(result, \"Order processed for 2 units of Phone.\")\n",
        "        self.assertEqual(self.product.stock, 18)\n",
        "\n",
        "    def test_process_order_insufficient_stock(self):\n",
        "        order = Order(self.product, 25)\n",
        "        with self.assertRaises(ValueError):\n",
        "            order.process_order()\n",
        "\n",
        "if __name__ == '__main__':\n",
        "    unittest.main()\n",
        "```\n",
        "\n",
        "### 4. Create `setup.py`\n",
        "\n",
        "**`setup.py`**: This file is used for packaging and distributing your Python package.\n",
        "\n",
        "```python\n",
        "# setup.py\n",
        "\n",
        "from setuptools import setup, find_packages\n",
        "\n",
        "setup(\n",
        "    name='ecommerce',\n",
        "    version='0.1',\n",
        "    packages=find_packages(),\n",
        "    description='A simple ecommerce package',\n",
        "    author='Your Name',\n",
        "    author_email='your.email@example.com',\n",
        "    url='https://github.com/yourusername/ecommerce',\n",
        "    classifiers=[\n",
        "        'Development Status :: 3 - Alpha',\n",
        "        'Intended Audience :: Developers',\n",
        "        'License :: OSI Approved :: MIT License',\n",
        "        'Programming Language :: Python :: 3',\n",
        "    ],\n",
        ")\n",
        "```\n",
        "\n",
        "### 5. Create `README.md`\n",
        "\n",
        "**`README.md`**: Provides an overview of the project, installation instructions, and usage examples.\n",
        "\n",
        "```markdown\n",
        "# Ecommerce Package\n",
        "\n",
        "## Description\n",
        "A simple ecommerce package that includes functionality for product management and order processing.\n",
        "\n",
        "## Installation\n",
        "You can install this package using pip:\n",
        "\n",
        "```bash\n",
        "pip install .\n",
        "```\n",
        "\n",
        "## Usage\n",
        "### Product Management\n",
        "\n",
        "```python\n",
        "from ecommerce.product_management import Product, list_products\n",
        "\n",
        "product = Product(\"Laptop\", 1000.00, 10)\n",
        "print(product)\n",
        "```\n",
        "\n",
        "### Order Processing\n",
        "\n",
        "```python\n",
        "from ecommerce.product_management import Product\n",
        "from ecommerce.order_processing import Order\n",
        "\n",
        "product = Product(\"Phone\", 500.00, 20)\n",
        "order = Order(product, 2)\n",
        "print(order.process_order())\n",
        "```\n",
        "```\n",
        "\n",
        "### Summary\n",
        "\n",
        "- **`ecommerce/__init__.py`**: Marks the directory as a package.\n",
        "- **`ecommerce/product_management.py`**: Contains classes and functions for managing products.\n",
        "- **`ecommerce/order_processing.py`**: Contains classes and functions for processing orders.\n",
        "- **`tests/test_product_management.py`** and **`tests/test_order_processing.py`**: Contain unit tests for the product and order modules.\n",
        "- **`setup.py`**: Used for packaging and distribution.\n",
        "- **`README.md`**: Provides an overview and instructions for the package.\n",
        "\n",
        "With this structure, you can manage product and order functionalities in your ecommerce project efficiently and keep your code organized and testable."
      ],
      "metadata": {
        "id": "j6tLmO3YCPng"
      }
    },
    {
      "cell_type": "markdown",
      "source": [
        "14. Implement a Python module named string_utils.py containing functions for string manipulation, such as\n",
        "reversing and capitalizing strings."
      ],
      "metadata": {
        "id": "h6FMy19DCYEO"
      }
    },
    {
      "cell_type": "code",
      "source": [
        "# string_utils.py\n",
        "\n",
        "def reverse_string(s):\n",
        "    \"\"\"\n",
        "    Function to reverse a given string.\n",
        "\n",
        "    Args:\n",
        "        s (str): The string to reverse.\n",
        "\n",
        "    Returns:\n",
        "        str: The reversed string.\n",
        "    \"\"\"\n",
        "    return s[::-1]\n",
        "\n",
        "def capitalize_string(s):\n",
        "    \"\"\"\n",
        "    Function to capitalize the first letter of each word in the string.\n",
        "\n",
        "    Args:\n",
        "        s (str): The string to capitalize.\n",
        "\n",
        "    Returns:\n",
        "        str: The string with the first letter of each word capitalized.\n",
        "    \"\"\"\n",
        "    return s.title()\n",
        "\n",
        "def uppercase_string(s):\n",
        "    \"\"\"\n",
        "    Function to convert the entire string to uppercase.\n",
        "\n",
        "    Args:\n",
        "        s (str): The string to convert to uppercase.\n",
        "\n",
        "    Returns:\n",
        "        str: The uppercase version of the string.\n",
        "    \"\"\"\n",
        "    return s.upper()\n",
        "\n",
        "def lowercase_string(s):\n",
        "    \"\"\"\n",
        "    Function to convert the entire string to lowercase.\n",
        "\n",
        "    Args:\n",
        "        s (str): The string to convert to lowercase.\n",
        "\n",
        "    Returns:\n",
        "        str: The lowercase version of the string.\n",
        "    \"\"\"\n",
        "    return s.lower()\n"
      ],
      "metadata": {
        "id": "T1F6WiwqCAKl"
      },
      "execution_count": null,
      "outputs": []
    },
    {
      "cell_type": "code",
      "source": [
        "# main.py\n",
        "\n",
        "import string_utils\n",
        "\n",
        "def main():\n",
        "    # Example strings\n",
        "    s = \"hello world\"\n",
        "\n",
        "    print(f\"Original string: {s}\")\n",
        "    print(f\"Reversed string: {string_utils.reverse_string(s)}\")\n",
        "    print(f\"Capitalized string: {string_utils.capitalize_string(s)}\")\n",
        "    print(f\"Uppercase string: {string_utils.uppercase_string(s)}\")\n",
        "    print(f\"Lowercase string: {string_utils.lowercase_string(s)}\")\n",
        "\n",
        "if __name__ == \"__main__\":\n",
        "    main()\n"
      ],
      "metadata": {
        "id": "GzxUrWOYCmLg"
      },
      "execution_count": null,
      "outputs": []
    },
    {
      "cell_type": "markdown",
      "source": [
        "15. Write a Python module named file_operations.py with functions for reading, writing, and appending\n",
        "data to a file."
      ],
      "metadata": {
        "id": "2Qua88QeCuYJ"
      }
    },
    {
      "cell_type": "code",
      "source": [
        "# file_operations.py\n",
        "\n",
        "def read_file(file_path):\n",
        "    \"\"\"\n",
        "    Function to read the contents of a file.\n",
        "\n",
        "    Args:\n",
        "        file_path (str): The path to the file to read.\n",
        "\n",
        "    Returns:\n",
        "        str: The contents of the file.\n",
        "\n",
        "    Raises:\n",
        "        FileNotFoundError: If the file does not exist.\n",
        "        IOError: If there is an error reading the file.\n",
        "    \"\"\"\n",
        "    try:\n",
        "        with open(file_path, 'r') as file:\n",
        "            return file.read()\n",
        "    except FileNotFoundError:\n",
        "        raise FileNotFoundError(f\"The file at {file_path} does not exist.\")\n",
        "    except IOError as e:\n",
        "        raise IOError(f\"An error occurred while reading the file: {e}\")\n",
        "\n",
        "def write_file(file_path, data):\n",
        "    \"\"\"\n",
        "    Function to write data to a file. Overwrites the file if it exists.\n",
        "\n",
        "    Args:\n",
        "        file_path (str): The path to the file to write to.\n",
        "        data (str): The data to write to the file.\n",
        "\n",
        "    Raises:\n",
        "        IOError: If there is an error writing to the file.\n",
        "    \"\"\"\n",
        "    try:\n",
        "        with open(file_path, 'w') as file:\n",
        "            file.write(data)\n",
        "    except IOError as e:\n",
        "        raise IOError(f\"An error occurred while writing to the file: {e}\")\n",
        "\n",
        "def append_to_file(file_path, data):\n",
        "    \"\"\"\n",
        "    Function to append data to a file. Creates the file if it does not exist.\n",
        "\n",
        "    Args:\n",
        "        file_path (str): The path to the file to append to.\n",
        "        data (str): The data to append to the file.\n",
        "\n",
        "    Raises:\n",
        "        IOError: If there is an error appending to the file.\n",
        "    \"\"\"\n",
        "    try:\n",
        "        with open(file_path, 'a') as file:\n",
        "            file.write(data)\n",
        "    except IOError as e:\n",
        "        raise IOError(f\"An error occurred while appending to the file: {e}\")\n"
      ],
      "metadata": {
        "id": "ghdinPzdCpEJ"
      },
      "execution_count": null,
      "outputs": []
    },
    {
      "cell_type": "code",
      "source": [
        "# main.py\n",
        "\n",
        "import file_operations\n",
        "\n",
        "def main():\n",
        "    # Example file path\n",
        "    file_path = 'example.txt'\n",
        "\n",
        "    # Write data to the file\n",
        "    file_operations.write_file(file_path, \"Hello, world!\\n\")\n",
        "    print(f\"Data written to {file_path}\")\n",
        "\n",
        "    # Append data to the file\n",
        "    file_operations.append_to_file(file_path, \"Appending more data...\\n\")\n",
        "    print(f\"Data appended to {file_path}\")\n",
        "\n",
        "    # Read data from the file\n",
        "    try:\n",
        "        content = file_operations.read_file(file_path)\n",
        "        print(\"File content:\")\n",
        "        print(content)\n",
        "    except Exception as e:\n",
        "        print(f\"Error reading file: {e}\")\n",
        "\n",
        "if __name__ == \"__main__\":\n",
        "    main()\n"
      ],
      "metadata": {
        "id": "HqFuYfGxCykP"
      },
      "execution_count": null,
      "outputs": []
    },
    {
      "cell_type": "markdown",
      "source": [
        "16. Write a Python program to create a text file named \"employees.txt\" and write the details of employees,\n",
        "including their name, age, and salary, into the file."
      ],
      "metadata": {
        "id": "esveuAb0C8ej"
      }
    },
    {
      "cell_type": "code",
      "source": [
        "# Define employee data\n",
        "employees = [\n",
        "    {\"name\": \"Alice Smith\", \"age\": 30, \"salary\": 70000},\n",
        "    {\"name\": \"Bob Johnson\", \"age\": 45, \"salary\": 85000},\n",
        "    {\"name\": \"Carol Williams\", \"age\": 29, \"salary\": 62000},\n",
        "    {\"name\": \"David Brown\", \"age\": 35, \"salary\": 75000}\n",
        "]\n",
        "\n",
        "def write_employee_details(file_path, employee_list):\n",
        "    \"\"\"\n",
        "    Function to write employee details to a file.\n",
        "\n",
        "    Args:\n",
        "        file_path (str): The path to the file to write to.\n",
        "        employee_list (list of dict): A list of dictionaries containing employee details.\n",
        "    \"\"\"\n",
        "    try:\n",
        "        with open(file_path, 'w') as file:\n",
        "            for employee in employee_list:\n",
        "                # Format employee details as a string\n",
        "                employee_details = f\"Name: {employee['name']}, Age: {employee['age']}, Salary: ${employee['salary']}\\n\"\n",
        "                # Write the details to the file\n",
        "                file.write(employee_details)\n",
        "        print(f\"Employee details have been written to {file_path}.\")\n",
        "    except IOError as e:\n",
        "        print(f\"An error occurred while writing to the file: {e}\")\n",
        "\n",
        "def main():\n",
        "    file_path = 'employees.txt'\n",
        "    write_employee_details(file_path, employees)\n",
        "\n",
        "if __name__ == \"__main__\":\n",
        "    main()\n",
        "\n"
      ],
      "metadata": {
        "id": "K2I9K0zxC0Sf"
      },
      "execution_count": null,
      "outputs": []
    },
    {
      "cell_type": "markdown",
      "source": [
        "17. Develop a Python script that opens an existing text file named \"inventory.txt\" in read mode and displays\n",
        "the contents of the file line by line."
      ],
      "metadata": {
        "id": "ceic6vz9DUhW"
      }
    },
    {
      "cell_type": "code",
      "source": [
        "# Define the path to the file\n",
        "file_path = 'inventory.txt'\n",
        "\n",
        "def read_and_display_file(file_path):\n",
        "    \"\"\"\n",
        "    Function to open and read the contents of a file, displaying it line by line.\n",
        "\n",
        "    Args:\n",
        "        file_path (str): The path to the file to read.\n",
        "    \"\"\"\n",
        "    try:\n",
        "        # Open the file in read mode\n",
        "        with open(file_path, 'r') as file:\n",
        "            # Read and print each line\n",
        "            for line in file:\n",
        "                print(line, end='')  # end='' prevents adding extra newlines\n",
        "    except FileNotFoundError:\n",
        "        print(f\"The file at {file_path} does not exist.\")\n",
        "    except IOError as e:\n",
        "        print(f\"An error occurred while reading the file: {e}\")\n",
        "\n",
        "def main():\n",
        "    read_and_display_file(file_path)\n",
        "\n",
        "if __name__ == \"__main__\":\n",
        "    main()\n",
        "#python read_inventory.py\n"
      ],
      "metadata": {
        "id": "8pGjCyRxC_2R"
      },
      "execution_count": null,
      "outputs": []
    },
    {
      "cell_type": "markdown",
      "source": [
        "18. Create a Python script that reads a text file named \"expenses.txt\" and calculates the total amount spent\n",
        "on various expenses listed in the file."
      ],
      "metadata": {
        "id": "YV6yDhmJDmfI"
      }
    },
    {
      "cell_type": "code",
      "source": [
        "# Define the path to the file\n",
        "file_path = 'expenses.txt'\n",
        "\n",
        "def calculate_total_expenses(file_path):\n",
        "    \"\"\"\n",
        "    Function to read a file containing expense amounts and calculate the total amount spent.\n",
        "\n",
        "    Args:\n",
        "        file_path (str): The path to the file containing expenses.\n",
        "\n",
        "    Returns:\n",
        "        float: The total amount spent.\n",
        "\n",
        "    Raises:\n",
        "        FileNotFoundError: If the file does not exist.\n",
        "        ValueError: If the file contains invalid data that cannot be converted to a float.\n",
        "        IOError: If there is an error reading the file.\n",
        "    \"\"\"\n",
        "    total = 0.0\n",
        "\n",
        "    try:\n",
        "        # Open the file in read mode\n",
        "        with open(file_path, 'r') as file:\n",
        "            # Read each line and accumulate the total\n",
        "            for line in file:\n",
        "                try:\n",
        "                    # Convert line to float and add to total\n",
        "                    amount = float(line.strip())\n",
        "                    total += amount\n",
        "                except ValueError:\n",
        "                    print(f\"Invalid data found in file: {line.strip()}\")\n",
        "\n",
        "    except FileNotFoundError:\n",
        "        print(f\"The file at {file_path} does not exist.\")\n",
        "    except IOError as e:\n",
        "        print(f\"An error occurred while reading the file: {e}\")\n",
        "\n",
        "    return total\n",
        "\n",
        "def main():\n",
        "    total_expenses = calculate_total_expenses(file_path)\n",
        "    print(f\"Total expenses: ${total_expenses:.2f}\")\n",
        "\n",
        "if __name__ == \"__main__\":\n",
        "    main()\n",
        "#python calculate_expenses.py\n"
      ],
      "metadata": {
        "id": "S9EG8EXqDdBJ"
      },
      "execution_count": null,
      "outputs": []
    },
    {
      "cell_type": "markdown",
      "source": [
        "21. What do you mean by skewness.Explain its types.Use graph to show."
      ],
      "metadata": {
        "id": "DuKgXW_REkq_"
      }
    },
    {
      "cell_type": "markdown",
      "source": [
        "**Skewness** is a statistical measure that describes the asymmetry of the distribution of data values around its mean. It indicates the direction and degree to which a distribution deviates from a normal distribution.\n",
        "\n",
        "### Understanding Skewness\n",
        "\n",
        "- **Positive Skewness**: Also known as right skewness. In a positively skewed distribution, the tail on the right side of the distribution is longer or fatter than the left side. This means that most of the data values are concentrated on the left, with a few larger values extending to the right.\n",
        "- **Negative Skewness**: Also known as left skewness. In a negatively skewed distribution, the tail on the left side of the distribution is longer or fatter than the right side. This indicates that most of the data values are concentrated on the right, with a few smaller values extending to the left.\n",
        "- **Zero Skewness**: A distribution with zero skewness is symmetrical. In this case, the distribution resembles a normal distribution where the left and right tails are balanced and the mean, median, and mode are all equal.\n",
        "\n",
        "### Types of Skewness and Their Graphical Representations\n",
        "\n",
        "To illustrate skewness, let's consider three types of distributions: positively skewed, negatively skewed, and symmetrical (zero skewness).\n",
        "\n",
        "1. **Positive Skewness (Right Skewness)**:\n",
        "   - **Characteristics**: The bulk of the data is concentrated on the left with a long tail extending to the right.\n",
        "   - **Graph**: The peak of the distribution is on the left with a gradual slope to the right.\n",
        "\n",
        "   ```python\n",
        "   import numpy as np\n",
        "   import matplotlib.pyplot as plt\n",
        "   import seaborn as sns\n",
        "\n",
        "   # Generate positively skewed data\n",
        "   data_pos_skew = np.random.exponential(scale=1, size=1000)\n",
        "\n",
        "   # Plot\n",
        "   plt.figure(figsize=(14, 5))\n",
        "\n",
        "   plt.subplot(1, 3, 1)\n",
        "   sns.histplot(data_pos_skew, kde=True)\n",
        "   plt.title('Positive Skewness')\n",
        "\n",
        "   ```\n",
        "\n",
        "2. **Negative Skewness (Left Skewness)**:\n",
        "   - **Characteristics**: The bulk of the data is concentrated on the right with a long tail extending to the left.\n",
        "   - **Graph**: The peak of the distribution is on the right with a gradual slope to the left.\n",
        "\n",
        "   ```python\n",
        "   # Generate negatively skewed data\n",
        "   data_neg_skew = -np.random.exponential(scale=1, size=1000)\n",
        "\n",
        "   # Plot\n",
        "   plt.subplot(1, 3, 2)\n",
        "   sns.histplot(data_neg_skew, kde=True)\n",
        "   plt.title('Negative Skewness')\n",
        "\n",
        "   ```\n",
        "\n",
        "3. **Symmetrical Distribution (Zero Skewness)**:\n",
        "   - **Characteristics**: The data is evenly distributed around the mean with equal tails on both sides.\n",
        "   - **Graph**: The distribution is bell-shaped (like the normal distribution).\n",
        "\n",
        "   ```python\n",
        "   # Generate normally distributed data (zero skewness)\n",
        "   data_symm = np.random.normal(loc=0, scale=1, size=1000)\n",
        "\n",
        "   # Plot\n",
        "   plt.subplot(1, 3, 3)\n",
        "   sns.histplot(data_symm, kde=True)\n",
        "   plt.title('Symmetrical Distribution')\n",
        "\n",
        "   plt.tight_layout()\n",
        "   plt.show()\n",
        "   ```\n",
        "\n",
        "### Explanation of Graphs\n",
        "\n",
        "- **Positively Skewed (Right Skewed)**: The histogram will show a long tail on the right side. This indicates that while most of the data points are clustered on the lower end, there are some higher values stretching out towards the right.\n",
        "- **Negatively Skewed (Left Skewed)**: The histogram will show a long tail on the left side. This indicates that while most of the data points are clustered on the higher end, there are some lower values stretching out towards the left.\n",
        "- **Symmetrical Distribution**: The histogram will appear bell-shaped, typical of a normal distribution, with the data symmetrically distributed around the mean.\n",
        "\n",
        "### Summary\n",
        "\n",
        "- **Skewness** quantifies the asymmetry of a distribution.\n",
        "- **Positive Skewness**: Longer right tail.\n",
        "- **Negative Skewness**: Longer left tail.\n",
        "- **Zero Skewness**: Symmetrical distribution.\n",
        "\n",
        "These visualizations help in understanding how data is distributed and can be used to assess the normality of the distribution, which is important for various statistical analyses and modeling."
      ],
      "metadata": {
        "id": "d238cCKPEl2j"
      }
    },
    {
      "cell_type": "markdown",
      "source": [
        "22. Explain PROBABILITY MASS FUNCTION (PMF) and PROBABILITY DENSITY FUNCTION (PDF). and what is the\n",
        "difference between them?"
      ],
      "metadata": {
        "id": "08zt6RZxE3Dk"
      }
    },
    {
      "cell_type": "markdown",
      "source": [
        "### Probability Mass Function (PMF) and Probability Density Function (PDF)\n",
        "\n",
        "**Probability Mass Function (PMF)** and **Probability Density Function (PDF)** are fundamental concepts in probability theory and statistics used to describe different types of random variables. They serve to characterize the probability distribution of a random variable, but they apply to different types of variables.\n",
        "\n",
        "### Probability Mass Function (PMF)\n",
        "\n",
        "**PMF** is used for discrete random variables. A discrete random variable can take on a countable number of distinct values.\n",
        "\n",
        "- **Definition**: The PMF of a discrete random variable \\( X \\) gives the probability that \\( X \\) takes a specific value \\( x \\). It is denoted as \\( P(X = x) \\) or \\( p(x) \\).\n",
        "- **Properties**:\n",
        "  - \\( p(x) \\geq 0 \\) for all \\( x \\).\n",
        "  - The sum of the PMF over all possible values of \\( X \\) equals 1:\n",
        "    \\[\n",
        "    \\sum_{x} p(x) = 1\n",
        "    \\]\n",
        "- **Example**: If you roll a fair die, the probability mass function \\( p(x) \\) for the outcome \\( x \\) (where \\( x \\) can be 1, 2, 3, 4, 5, or 6) is:\n",
        "  \\[\n",
        "  p(x) = \\frac{1}{6} \\text{ for } x \\in \\{1, 2, 3, 4, 5, 6\\}\n",
        "  \\]\n",
        "\n",
        "### Probability Density Function (PDF)\n",
        "\n",
        "**PDF** is used for continuous random variables. A continuous random variable can take on an uncountably infinite number of values.\n",
        "\n",
        "- **Definition**: The PDF of a continuous random variable \\( X \\) describes the likelihood of \\( X \\) falling within a particular range of values. It is denoted as \\( f(x) \\).\n",
        "- **Properties**:\n",
        "  - \\( f(x) \\geq 0 \\) for all \\( x \\).\n",
        "  - The integral of the PDF over the entire range of possible values equals 1:\n",
        "    \\[\n",
        "    \\int_{-\\infty}^{\\infty} f(x) \\, dx = 1\n",
        "    \\]\n",
        "  - The probability that \\( X \\) falls within a specific interval \\([a, b]\\) is given by the integral of \\( f(x) \\) over that interval:\n",
        "    \\[\n",
        "    P(a \\leq X \\leq b) = \\int_{a}^{b} f(x) \\, dx\n",
        "    \\]\n",
        "- **Example**: For a continuous random variable \\( X \\) with a standard normal distribution, the PDF \\( f(x) \\) is:\n",
        "  \\[\n",
        "  f(x) = \\frac{1}{\\sqrt{2\\pi}} e^{-\\frac{x^2}{2}}\n",
        "  \\]\n",
        "\n",
        "### Key Differences\n",
        "\n",
        "1. **Type of Random Variable**:\n",
        "   - **PMF**: Used for discrete random variables (e.g., the outcome of rolling a die).\n",
        "   - **PDF**: Used for continuous random variables (e.g., height of individuals).\n",
        "\n",
        "2. **Probability Representation**:\n",
        "   - **PMF**: Directly gives the probability of a specific outcome.\n",
        "   - **PDF**: Does not give probabilities directly. Instead, it gives the density, and probabilities are found by integrating the PDF over an interval.\n",
        "\n",
        "3. **Sum vs. Integral**:\n",
        "   - **PMF**: The sum of probabilities over all possible outcomes is 1.\n",
        "   - **PDF**: The integral of the density function over all possible values is 1.\n",
        "\n",
        "4. **Probability Calculation**:\n",
        "   - **PMF**: The probability of a specific value \\( x \\) is \\( p(x) \\).\n",
        "   - **PDF**: The probability that the random variable falls within an interval is the integral of the PDF over that interval.\n",
        "\n",
        "### Summary\n",
        "\n",
        "- **Probability Mass Function (PMF)**: Describes the probability of discrete outcomes. Probabilities are summed up over discrete values.\n",
        "- **Probability Density Function (PDF)**: Describes the likelihood of continuous outcomes. Probabilities are calculated by integrating the density function over a range of values.\n",
        "\n",
        "Understanding PMFs and PDFs is crucial for statistical analysis and modeling, as they provide the foundation for calculating and interpreting probabilities for both discrete and continuous random variables."
      ],
      "metadata": {
        "id": "irG_nxtGE6MS"
      }
    },
    {
      "cell_type": "markdown",
      "source": [
        "41.Write a Flask route that accepts a parameter in the URL and displays it on the page."
      ],
      "metadata": {
        "id": "kQcOx3DPL6wb"
      }
    },
    {
      "cell_type": "code",
      "source": [
        "from flask import Flask\n",
        "\n",
        "app = Flask(__name__)\n",
        "\n",
        "@app.route('/hello/<name>')\n",
        "def hello_name(name):\n",
        "    return f'Hello, {name}!'\n",
        "\n",
        "if __name__ == '__main__':\n",
        "    app.run(debug=True)"
      ],
      "metadata": {
        "id": "HqzOoRMwDuch"
      },
      "execution_count": null,
      "outputs": []
    },
    {
      "cell_type": "markdown",
      "source": [
        "\n",
        "49. Make a fully functional web application using flask, Mangodb. Signup,Signin page.And after successfully\n",
        "login .Say hello Geeks message at webpage."
      ],
      "metadata": {
        "id": "KbolcVBmQb_C"
      }
    },
    {
      "cell_type": "code",
      "source": [
        "pip install Flask pymongo flask_bcrypt"
      ],
      "metadata": {
        "id": "aCd0YHPYL_l1"
      },
      "execution_count": null,
      "outputs": []
    },
    {
      "cell_type": "code",
      "source": [
        "from flask import Flask, render_template, request, redirect, url_for, session, flash\n",
        "from flask_bcrypt import Bcrypt\n",
        "from pymongo import MongoClient\n",
        "\n",
        "app = Flask(__name__)\n",
        "app.config['SECRET_KEY'] = 'your_secret_key'  # Replace with a strong secret key\n",
        "\n",
        "# MongoDB connection\n",
        "client = MongoClient('localhost', 27017)\n",
        "db = client['your_database_name']\n",
        "users_collection = db['users']\n",
        "\n",
        "bcrypt = Bcrypt(app)"
      ],
      "metadata": {
        "id": "FyktyJ1tQjsg"
      },
      "execution_count": null,
      "outputs": []
    },
    {
      "cell_type": "code",
      "source": [
        "class User:\n",
        "    def __init__(self, username, password_hash):\n",
        "        self.id = None  # Will be assigned after saving to MongoDB\n",
        "        self.username = username\n",
        "        self.password_hash = password_hash"
      ],
      "metadata": {
        "id": "XbgLMjnBQly3"
      },
      "execution_count": null,
      "outputs": []
    },
    {
      "cell_type": "code",
      "source": [
        "@app.route('/signup', methods=['GET', 'POST'])\n",
        "def signup():\n",
        "    if request.method == 'POST':\n",
        "        username = request.form['username']\n",
        "        password = request.form['password']\n",
        "\n",
        "        # Check if user exists\n",
        "        existing_user = users_collection.find_one({'username': username})\n",
        "        if existing_user:\n",
        "            flash('Username already exists')\n",
        "            return redirect(url_for('signup'))\n",
        "\n",
        "        # Hash password\n",
        "        hashed_password = bcrypt.generate_password_hash(password)\n",
        "\n",
        "        # Create user\n",
        "        user = User(username, hashed_password)\n",
        "        user_id = users_collection.insert_one({'username': username, 'password_hash': hashed_password}).inserted_id\n",
        "        user.id = str(user_id)  # Convert ObjectId to string\n",
        "\n",
        "        # Successful signup, redirect to login\n",
        "        flash('Signup successful')\n",
        "        return redirect(url_for('login'))\n",
        "\n",
        "    return render_template('signup.html')"
      ],
      "metadata": {
        "id": "nju2Ezw0QoMx"
      },
      "execution_count": null,
      "outputs": []
    },
    {
      "cell_type": "code",
      "source": [
        "@app.route('/login', methods=['GET', 'POST'])\n",
        "def login():\n",
        "    if request.method == 'POST':\n",
        "        username = request.form['username']\n",
        "        password = request.form['password']\n",
        "\n",
        "        user = users_collection.find_one({'username': username})\n",
        "        if user and bcrypt.check_password_hash(user['password_hash'], password):\n",
        "            session['user_id'] = str(user['_id'])  # Store user ID in session\n",
        "            return redirect(url_for('home'))\n",
        "        else:\n",
        "            flash('Invalid username or password')\n",
        "            return redirect(url_for('login'))\n",
        "\n",
        "    return render_template('login.html')"
      ],
      "metadata": {
        "id": "2vGW0quEQqDA"
      },
      "execution_count": null,
      "outputs": []
    },
    {
      "cell_type": "code",
      "source": [
        "@app.route('/')\n",
        "def home():\n",
        "    if 'user_id' in session:\n",
        "        return 'Hello, Geeks!'\n",
        "    else:\n",
        "        return redirect(url_for('login'))"
      ],
      "metadata": {
        "id": "rpAQunCBQr75"
      },
      "execution_count": null,
      "outputs": []
    },
    {
      "cell_type": "code",
      "source": [
        "@app.route('/logout')\n",
        "def logout():\n",
        "    session.pop('user_id', None)\n",
        "    return redirect(url_for('login'))"
      ],
      "metadata": {
        "id": "2cfn4HKFQt3q"
      },
      "execution_count": null,
      "outputs": []
    },
    {
      "cell_type": "markdown",
      "source": [
        "50.Machine Learning"
      ],
      "metadata": {
        "id": "_0nUBWUnRV9o"
      }
    },
    {
      "cell_type": "markdown",
      "source": [
        "Create a database name Travel_Planner in mysql ,and create a table name bookings in that which having\n",
        "attributes (user_id INT, flight_id INT,hotel_id INT, activity_id INT,booking_date DATE) .fill with some dummy\n",
        "value .Now you have to read the content of this table using pandas as dataframe.Show the output"
      ],
      "metadata": {
        "id": "0gPHzpGARYZG"
      }
    },
    {
      "cell_type": "code",
      "source": [
        "-- Create the database\n",
        "CREATE DATABASE Travel_Planner;\n",
        "\n",
        "-- Use the newly created database\n",
        "USE Travel_Planner;\n",
        "\n",
        "-- Create the table\n",
        "CREATE TABLE bookings (\n",
        "    user_id INT,\n",
        "    flight_id INT,\n",
        "    hotel_id INT,\n",
        "    activity_id INT,\n",
        "    booking_date DATE\n",
        ");\n",
        "\n",
        "-- Insert dummy data into the table\n",
        "INSERT INTO bookings (user_id, flight_id, hotel_id, activity_id, booking_date) VALUES\n",
        "(1, 101, 201, 301, '2024-08-20'),\n",
        "(2, 102, 202, 302, '2024-08-21'),\n",
        "(3, 103, 203, 303, '2024-08-22'),\n",
        "(4, 104, 204, 304, '2024-08-23'),\n",
        "(5, 105, 205, 305, '2024-08-24');\n"
      ],
      "metadata": {
        "id": "99ZxE5uBQwN4"
      },
      "execution_count": null,
      "outputs": []
    },
    {
      "cell_type": "code",
      "source": [
        "import pandas as pd\n",
        "import mysql.connector\n",
        "\n",
        "# Establish a connection to the MySQL database\n",
        "connection = mysql.connector.connect(\n",
        "    host='localhost',         # Replace with your MySQL host, e.g., 'localhost' or an IP address\n",
        "    user='your_username',     # Replace with your MySQL username\n",
        "    password='your_password', # Replace with your MySQL password\n",
        "    database='Travel_Planner' # The database to connect to\n",
        ")\n",
        "\n",
        "# Define the SQL query to read data from the table\n",
        "query = \"SELECT * FROM bookings;\"\n",
        "\n",
        "# Read the table into a pandas DataFrame\n",
        "df = pd.read_sql(query, connection)\n",
        "\n",
        "# Close the database connection\n",
        "connection.close()\n",
        "\n",
        "# Display the DataFrame\n",
        "print(df)\n"
      ],
      "metadata": {
        "id": "tK3U0RVIRsec"
      },
      "execution_count": null,
      "outputs": []
    },
    {
      "cell_type": "markdown",
      "source": [
        "Difference between loc and iloc"
      ],
      "metadata": {
        "id": "yqOLHNEMSmH2"
      }
    },
    {
      "cell_type": "code",
      "source": [
        "import pandas as pd\n",
        "\n",
        "data = {'Column1': [1, 2, 3], 'Column2': [4, 5, 6]}\n",
        "df = pd.DataFrame(data, index=['A', 'B', 'C'])\n",
        "\n",
        "# Using loc\n",
        "print(df.loc['B', 'Column1'])  # Output: 2\n",
        "print(df.loc['A':'C', 'Column1'])  # Output: Column1\n",
        "#                                      A    1\n",
        "#                                      B    2\n",
        "#                                      C    3\n",
        "\n",
        "# Using iloc\n",
        "print(df.iloc[1, 0])  # Output: 2\n",
        "print(df.iloc[0:2, 0])  # Output: Column1\n",
        "#                                      A    1\n",
        "#                                      B    2"
      ],
      "metadata": {
        "id": "WWDKWVYvRxSK"
      },
      "execution_count": null,
      "outputs": []
    },
    {
      "cell_type": "code",
      "source": [],
      "metadata": {
        "id": "7ePxWlkDSq8u"
      },
      "execution_count": null,
      "outputs": []
    }
  ],
  "metadata": {
    "colab": {
      "provenance": []
    },
    "kernelspec": {
      "display_name": "Python 3",
      "name": "python3"
    },
    "language_info": {
      "name": "python"
    }
  },
  "nbformat": 4,
  "nbformat_minor": 0
}